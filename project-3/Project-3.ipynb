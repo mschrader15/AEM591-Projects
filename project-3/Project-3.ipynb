{
 "cells": [
  {
   "cell_type": "markdown",
   "id": "0619ef75-7ea9-46d4-9c25-88887a700ed0",
   "metadata": {},
   "source": [
    "# Project 3"
   ]
  },
  {
   "cell_type": "markdown",
   "id": "221e03bc-ef9e-4208-b0fd-836f30874a62",
   "metadata": {},
   "source": [
    "1. Design an RSLQR to track a constant airspeed command and a constant angle-of-attack\n",
    "command;\n",
    "2. Design an RSLQR to track a constant roll angle command;\n",
    "3. Simulate the linear airplane dynamics with the decoupled control systems with a step response\n",
    "on the command"
   ]
  },
  {
   "cell_type": "code",
   "execution_count": 1,
   "id": "6f88c576-a689-4efb-a45f-399742ece41e",
   "metadata": {},
   "outputs": [],
   "source": [
    "from typing import *\n",
    "\n",
    "import numpy as np\n",
    "import scipy.linalg as la\n",
    "import plotly.graph_objects as go\n",
    "from plotly.subplots import make_subplots\n",
    "import plotly.io as pio\n",
    "from control import StateSpace\n",
    "# from control import lqr\n",
    "from control.matlab import lsim, step\n",
    "\n",
    "pio.templates.default = \"ggplot2\"\n",
    "pio.renderers.default = \"jupyterlab\""
   ]
  },
  {
   "cell_type": "markdown",
   "id": "1a1a3db1-aa3a-472c-8fae-dbb3ffadeeb9",
   "metadata": {
    "tags": []
   },
   "source": [
    "### Creating the LTI State Space Model"
   ]
  },
  {
   "cell_type": "code",
   "execution_count": 2,
   "id": "9b88445c-8c1c-40d0-a6a8-2d1de4283a2a",
   "metadata": {},
   "outputs": [],
   "source": [
    "class Plane:\n",
    "    MAX_STEP = 0.1\n",
    "\n",
    "    def __init__(self, ) -> None:\n",
    "        self.A = np.array([\n",
    "            [-0.038, 18.984, 0, -32.174, 0, 0, 0, 0],\n",
    "            [-0.001, -0.632, 1, 0, 0, 0, 0, 0],\n",
    "            [0, -0.759, -0.518, 0, 0, 0, 0, 0],\n",
    "            [0, 0, 1, 0, 0, 0, 0, 0],\n",
    "            [0, 0, 0, 0, -0.0829, 0, -1, 0.0487],\n",
    "            [0, 0, 0, 0, -4.546, -1.699, 0.1717, 0],\n",
    "            [0, 0, 0, 0, 3.382, -0.0654, -0.0893, 0],\n",
    "            [0, 0, 0, 0, 0, 1, 0, 0]\n",
    "        ])\n",
    "\n",
    "        self.B = np.array([\n",
    "            [0, 10.1, 0, 0],\n",
    "            [-0.0086, 0, 0, 0],\n",
    "            [-0.011, 0.025, 0, 0],\n",
    "            [0, 0, 0, 0],\n",
    "            [0, 0, 0, 0.0116],\n",
    "            [0, 0, 27.276, 0.5758],\n",
    "            [0, 0, 0.3952, -1.362],\n",
    "            [0, 0, 0, 0],\n",
    "        ])\n",
    "\n",
    "        self.x0 = np.array(\n",
    "            [250, 0, 0, 0, 0, 0, 0, 0]\n",
    "        )\n",
    "\n",
    "    def optimal_f(self, time_vector: np.ndarray, target_states: List[np.ndarray], Q: np.ndarray, R: np.ndarray) -> object:\n",
    "        \n",
    "        A = np.r_[np.c_[self.A, np.zeros(self.A.shape[0])], [[1, 0, 0, 0, 0, 0, 0, 0, 0]]]\n",
    "        B = np.r_[self.B, [[0] * self.B.shape[1]]]\n",
    "        K = self.design_lrq(A, B, Q, R)\n",
    "\n",
    "        if target_states[0].shape[0] != B.shape[0]:\n",
    "            target_states = [np.append(_t, [0]) for _t in target_states]\n",
    "            \n",
    "        # creating the target function\n",
    "        t_div = (time_vector[-1] - time_vector[0]) / len(target_states)\n",
    "        t_f = lambda t: target_states[int(t // t_div)]\n",
    "        \n",
    "        Aaug = A-B@K\n",
    "        X0 = np.append(self.x0, [0])\n",
    "\n",
    "        def f(t, x_t, ):\n",
    "            wr = t_f(t)\n",
    "            return np.array(((Aaug @ (x_t - wr).T) - (wr - X0)))[0]\n",
    "        \n",
    "        return f\n",
    "\n",
    "    @property\n",
    "    def ss(self, ) -> StateSpace:\n",
    "        return StateSpace(self.A, self.B, np.eye(self.A.shape[0]), np.zeros(self.B.shape))\n",
    "\n",
    "    def simulate_uncontrolled(self, t_vect: np.ndarray, u_vect: np.ndarray, ) -> Tuple[np.ndarray]:\n",
    "        self.T = t_vect\n",
    "        self.U = u_vect\n",
    "        return solve_ivp(self._f(), y0=self.x0, t_span=(t_vect[0], t_vect[-1]), max_step=Plane.MAX_STEP, args=(None, ))\n",
    "\n",
    "    def simulate_controlled(self, time_vector: np.ndarray, *args, **kwargs) -> Tuple[np.ndarray]:\n",
    "        # this is a bad practive but getting lazy\n",
    "        augx0 = np.append(self.x0, [0])\n",
    "        return solve_ivp(self.optimal_f(time_vector, *args, **kwargs), y0=augx0, t_span=(time_vector[0], time_vector[-1]), max_step=Plane.MAX_STEP)\n",
    "\n",
    "    def _f(self, ):\n",
    "        def f(t, x_t, wr):\n",
    "            U = np.array(self.step_function(t))\n",
    "            return self.A @ (x_t - self.x0) + (self.B @ U.T)\n",
    "        return f\n",
    "\n",
    "    def step_function(self, t: float):\n",
    "        return self.U[int(t // ((self.T[-1] - self.T[0]) / len(self.U)))]\n",
    "\n",
    "    @staticmethod\n",
    "    def design_lrq(A, B, Q, R) -> None:\n",
    "        X = np.matrix(\n",
    "            la.solve_continuous_are(\n",
    "                A, B, Q, R, e=None, balanced=True)\n",
    "        )\n",
    "\n",
    "        # compute the LQR gain\n",
    "        K = np.matrix(la.inv(R) @ (B.T@ X))\n",
    "        \n",
    "        # find the eigne values\n",
    "        eigVals, eigVecs = la.eig(A-B*K)\n",
    "\n",
    "        return K\n",
    "    \n",
    "    def control_lqr(self, ) -> np.ndarray:\n",
    "        # This function is used as a check of my own LQR implementation\n",
    "        from control import lqr\n",
    "\n",
    "        return lqr(self.ss, self.Q, self.R)\n",
    "\n",
    "    @staticmethod\n",
    "    def plot(t: np.ndarray, y: np.ndarray, u: np.ndarray, flat: bool = True, target: tuple = None, input_: bool = True) -> None:\n",
    "        fig = make_subplots(rows=5 if input_ else 3,\n",
    "                            cols=1,\n",
    "                            shared_xaxes=True,\n",
    "                            vertical_spacing=0.05,\n",
    "                            subplot_titles=(\"Airspeed\",\n",
    "                                            \"Angular Velocity\",\n",
    "                                            \"Angles\",\n",
    "                                            \"Control Surface Deflection\",\n",
    "                                            \"Thrust\",\n",
    "                                            )\n",
    "                            )\n",
    "\n",
    "        for j, (data, yaxis_title, inner_settings) in enumerate(\n",
    "            [[y, \"ft/s\", [[\"u\", 0]]],\n",
    "             [y, \"rad/s\", [[\"q\", 2], [\"r\", 6], [\"p\", 5]]],\n",
    "             [y, \"rad\", [[\"phi\", 7], [\"theta\", 3], [\"beta\", 4], [\"alpha\", 1]]],\n",
    "             [u, \"rad\", [[\"elevator\", 0], [\"airlerons\", 2], [\"rudder\", 3]]],\n",
    "             [u, \"lbs\", [[\"thrust\", 1]]],\n",
    "             ]\n",
    "        ):\n",
    "            if input_ or j < 3: \n",
    "                for name, ind in inner_settings:\n",
    "                    fig.add_trace(go.Scatter(\n",
    "                        x=t,\n",
    "                        #                     y=[val[ind] + self.u_bar if j < 1 else val[ind] for val in data],\n",
    "                        y=data[ind] if flat else [val[ind] for val in data],\n",
    "                        name=name\n",
    "                    ),\n",
    "                        row=j + 1, col=1\n",
    "                    )\n",
    "\n",
    "                    if target and j < 3:\n",
    "                        fig.add_trace(\n",
    "                            go.Scatter(\n",
    "                            x=target[0],\n",
    "                            y=[val[ind] for val in target[1]],\n",
    "                            line_color=\"black\",\n",
    "                            line_dash=\"dash\",\n",
    "                            name=\"Target\",\n",
    "                            showlegend=j < 1 \n",
    "                        ),\n",
    "                        row=j + 1, \n",
    "                        col=1,\n",
    "                    )\n",
    "\n",
    "                update_dict = {\n",
    "                    f\"yaxis{j+1}\" if j > 0 else \"yaxis\": dict(title=yaxis_title)\n",
    "                }\n",
    "            fig.update_layout(update_dict)\n",
    "        fig.update_layout(\n",
    "            height=800\n",
    "        )\n",
    "\n",
    "        fig.show()"
   ]
  },
  {
   "cell_type": "markdown",
   "id": "667d028b-c7ce-446d-ad18-efc2fc396dc1",
   "metadata": {
    "tags": []
   },
   "source": [
    "## Simulate the linear airplane dynamics with the decoupled control systems with a step response on the command"
   ]
  },
  {
   "cell_type": "code",
   "execution_count": 3,
   "id": "bdb3a84d-d285-49dd-b65c-90cd7b6772b4",
   "metadata": {},
   "outputs": [],
   "source": [
    "p = Plane()"
   ]
  },
  {
   "cell_type": "markdown",
   "id": "90e3d823-b7d1-4ed0-bc02-a732c39650b1",
   "metadata": {},
   "source": [
    "----\n",
    "$[u, v, w]$ = linear velocity $ft/s$\n",
    "\n",
    "$[p, q, r]$ = angular velocity $rad/s$\n",
    "\n",
    "$[\\phi, \\theta, \\psi]$ = Euler angles $rad$\n",
    "\n",
    "$\\alpha$ = angles of attack $rad$\n",
    "\n",
    "$\\beta$ = sideslip angle $rad$\n",
    "\n",
    "---\n",
    "\n",
    "$\\delta_a$ = control surface deflection airlerons\n",
    "\n",
    "$\\delta_e$ = control surface deflection elevator\n",
    "\n",
    "$\\delta_r$ = control surface deflection rudder\n",
    "\n",
    "$\\delta_t$ = propeller thrust"
   ]
  },
  {
   "cell_type": "markdown",
   "id": "7f0647fe-8e91-4875-b992-455bf228b1f0",
   "metadata": {
    "tags": []
   },
   "source": [
    "### Thrust"
   ]
  },
  {
   "cell_type": "code",
   "execution_count": 4,
   "id": "880e7ff8-414f-42e4-a02a-1a8f1b879016",
   "metadata": {},
   "outputs": [
    {
     "ename": "NameError",
     "evalue": "name 'solve_ivp' is not defined",
     "output_type": "error",
     "traceback": [
      "\u001b[0;31m---------------------------------------------------------------------------\u001b[0m",
      "\u001b[0;31mNameError\u001b[0m                                 Traceback (most recent call last)",
      "\u001b[0;32m/tmp/ipykernel_137073/3367725727.py\u001b[0m in \u001b[0;36m<module>\u001b[0;34m\u001b[0m\n\u001b[1;32m      1\u001b[0m \u001b[0mu\u001b[0m \u001b[0;34m=\u001b[0m \u001b[0mnp\u001b[0m\u001b[0;34m.\u001b[0m\u001b[0marray\u001b[0m\u001b[0;34m(\u001b[0m\u001b[0;34m[\u001b[0m\u001b[0;34m[\u001b[0m\u001b[0;36m0\u001b[0m\u001b[0;34m,\u001b[0m \u001b[0;36m0\u001b[0m\u001b[0;34m,\u001b[0m \u001b[0;36m0\u001b[0m\u001b[0;34m,\u001b[0m \u001b[0;36m0\u001b[0m\u001b[0;34m]\u001b[0m\u001b[0;34m]\u001b[0m \u001b[0;34m*\u001b[0m \u001b[0;36m10\u001b[0m \u001b[0;34m+\u001b[0m \u001b[0;34m[\u001b[0m\u001b[0;34m[\u001b[0m\u001b[0;36m0\u001b[0m\u001b[0;34m,\u001b[0m \u001b[0;36m0.1\u001b[0m\u001b[0;34m,\u001b[0m \u001b[0;36m0\u001b[0m\u001b[0;34m,\u001b[0m \u001b[0;36m0\u001b[0m\u001b[0;34m]\u001b[0m\u001b[0;34m]\u001b[0m \u001b[0;34m*\u001b[0m \u001b[0;36m90\u001b[0m\u001b[0;34m)\u001b[0m\u001b[0;34m\u001b[0m\u001b[0;34m\u001b[0m\u001b[0m\n\u001b[0;32m----> 2\u001b[0;31m \u001b[0mres\u001b[0m \u001b[0;34m=\u001b[0m \u001b[0mp\u001b[0m\u001b[0;34m.\u001b[0m\u001b[0msimulate_uncontrolled\u001b[0m\u001b[0;34m(\u001b[0m\u001b[0mnp\u001b[0m\u001b[0;34m.\u001b[0m\u001b[0mlinspace\u001b[0m\u001b[0;34m(\u001b[0m\u001b[0;36m0\u001b[0m\u001b[0;34m,\u001b[0m \u001b[0;36m20\u001b[0m\u001b[0;34m,\u001b[0m \u001b[0;36m100\u001b[0m\u001b[0;34m)\u001b[0m\u001b[0;34m,\u001b[0m \u001b[0mu\u001b[0m\u001b[0;34m)\u001b[0m\u001b[0;34m\u001b[0m\u001b[0;34m\u001b[0m\u001b[0m\n\u001b[0m\u001b[1;32m      3\u001b[0m \u001b[0mp\u001b[0m\u001b[0;34m.\u001b[0m\u001b[0mplot\u001b[0m\u001b[0;34m(\u001b[0m\u001b[0mres\u001b[0m\u001b[0;34m.\u001b[0m\u001b[0mt\u001b[0m\u001b[0;34m,\u001b[0m \u001b[0mres\u001b[0m\u001b[0;34m.\u001b[0m\u001b[0my\u001b[0m\u001b[0;34m,\u001b[0m \u001b[0;34m[\u001b[0m\u001b[0;34m[\u001b[0m\u001b[0mp\u001b[0m\u001b[0;34m.\u001b[0m\u001b[0mstep_function\u001b[0m\u001b[0;34m(\u001b[0m\u001b[0m_t\u001b[0m\u001b[0;34m)\u001b[0m\u001b[0;34m[\u001b[0m\u001b[0mi\u001b[0m\u001b[0;34m]\u001b[0m \u001b[0;32mfor\u001b[0m \u001b[0m_t\u001b[0m \u001b[0;32min\u001b[0m \u001b[0mres\u001b[0m\u001b[0;34m.\u001b[0m\u001b[0mt\u001b[0m\u001b[0;34m]\u001b[0m \u001b[0;32mfor\u001b[0m \u001b[0mi\u001b[0m \u001b[0;32min\u001b[0m \u001b[0mrange\u001b[0m\u001b[0;34m(\u001b[0m\u001b[0;36m4\u001b[0m\u001b[0;34m)\u001b[0m\u001b[0;34m]\u001b[0m\u001b[0;34m,\u001b[0m \u001b[0mflat\u001b[0m\u001b[0;34m=\u001b[0m\u001b[0;32mTrue\u001b[0m\u001b[0;34m)\u001b[0m\u001b[0;34m\u001b[0m\u001b[0;34m\u001b[0m\u001b[0m\n\u001b[1;32m      4\u001b[0m \u001b[0;31m# res.y\u001b[0m\u001b[0;34m\u001b[0m\u001b[0;34m\u001b[0m\u001b[0;34m\u001b[0m\u001b[0m\n",
      "\u001b[0;32m/tmp/ipykernel_137073/2926780227.py\u001b[0m in \u001b[0;36msimulate_uncontrolled\u001b[0;34m(self, t_vect, u_vect)\u001b[0m\n\u001b[1;32m     58\u001b[0m         \u001b[0mself\u001b[0m\u001b[0;34m.\u001b[0m\u001b[0mT\u001b[0m \u001b[0;34m=\u001b[0m \u001b[0mt_vect\u001b[0m\u001b[0;34m\u001b[0m\u001b[0;34m\u001b[0m\u001b[0m\n\u001b[1;32m     59\u001b[0m         \u001b[0mself\u001b[0m\u001b[0;34m.\u001b[0m\u001b[0mU\u001b[0m \u001b[0;34m=\u001b[0m \u001b[0mu_vect\u001b[0m\u001b[0;34m\u001b[0m\u001b[0;34m\u001b[0m\u001b[0m\n\u001b[0;32m---> 60\u001b[0;31m         \u001b[0;32mreturn\u001b[0m \u001b[0msolve_ivp\u001b[0m\u001b[0;34m(\u001b[0m\u001b[0mself\u001b[0m\u001b[0;34m.\u001b[0m\u001b[0m_f\u001b[0m\u001b[0;34m(\u001b[0m\u001b[0;34m)\u001b[0m\u001b[0;34m,\u001b[0m \u001b[0my0\u001b[0m\u001b[0;34m=\u001b[0m\u001b[0mself\u001b[0m\u001b[0;34m.\u001b[0m\u001b[0mx0\u001b[0m\u001b[0;34m,\u001b[0m \u001b[0mt_span\u001b[0m\u001b[0;34m=\u001b[0m\u001b[0;34m(\u001b[0m\u001b[0mt_vect\u001b[0m\u001b[0;34m[\u001b[0m\u001b[0;36m0\u001b[0m\u001b[0;34m]\u001b[0m\u001b[0;34m,\u001b[0m \u001b[0mt_vect\u001b[0m\u001b[0;34m[\u001b[0m\u001b[0;34m-\u001b[0m\u001b[0;36m1\u001b[0m\u001b[0;34m]\u001b[0m\u001b[0;34m)\u001b[0m\u001b[0;34m,\u001b[0m \u001b[0mmax_step\u001b[0m\u001b[0;34m=\u001b[0m\u001b[0mPlane\u001b[0m\u001b[0;34m.\u001b[0m\u001b[0mMAX_STEP\u001b[0m\u001b[0;34m,\u001b[0m \u001b[0margs\u001b[0m\u001b[0;34m=\u001b[0m\u001b[0;34m(\u001b[0m\u001b[0;32mNone\u001b[0m\u001b[0;34m,\u001b[0m \u001b[0;34m)\u001b[0m\u001b[0;34m)\u001b[0m\u001b[0;34m\u001b[0m\u001b[0;34m\u001b[0m\u001b[0m\n\u001b[0m\u001b[1;32m     61\u001b[0m \u001b[0;34m\u001b[0m\u001b[0m\n\u001b[1;32m     62\u001b[0m     \u001b[0;32mdef\u001b[0m \u001b[0msimulate_controlled\u001b[0m\u001b[0;34m(\u001b[0m\u001b[0mself\u001b[0m\u001b[0;34m,\u001b[0m \u001b[0mtime_vector\u001b[0m\u001b[0;34m:\u001b[0m \u001b[0mnp\u001b[0m\u001b[0;34m.\u001b[0m\u001b[0mndarray\u001b[0m\u001b[0;34m,\u001b[0m \u001b[0;34m*\u001b[0m\u001b[0margs\u001b[0m\u001b[0;34m,\u001b[0m \u001b[0;34m**\u001b[0m\u001b[0mkwargs\u001b[0m\u001b[0;34m)\u001b[0m \u001b[0;34m->\u001b[0m \u001b[0mTuple\u001b[0m\u001b[0;34m[\u001b[0m\u001b[0mnp\u001b[0m\u001b[0;34m.\u001b[0m\u001b[0mndarray\u001b[0m\u001b[0;34m]\u001b[0m\u001b[0;34m:\u001b[0m\u001b[0;34m\u001b[0m\u001b[0;34m\u001b[0m\u001b[0m\n",
      "\u001b[0;31mNameError\u001b[0m: name 'solve_ivp' is not defined"
     ]
    }
   ],
   "source": [
    "u = np.array([[0, 0, 0, 0]] * 10 + [[0, 0.1, 0, 0]] * 90)\n",
    "res = p.simulate_uncontrolled(np.linspace(0, 20, 100), u)\n",
    "p.plot(res.t, res.y, [[p.step_function(_t)[i] for _t in res.t] for i in range(4)], flat=True)\n",
    "# res.y"
   ]
  },
  {
   "cell_type": "markdown",
   "id": "33586423-de0d-4382-9c6a-14c9b2dc71fe",
   "metadata": {
    "tags": []
   },
   "source": [
    "### Elevator"
   ]
  },
  {
   "cell_type": "code",
   "execution_count": null,
   "id": "8ff0cc4b-2c9f-48a1-b259-e969fcfcb030",
   "metadata": {},
   "outputs": [],
   "source": [
    "u = np.array([[0, 0, 0, 0]] * 10 + [[0.4, 0, 0, 0]] * 90)\n",
    "res = p.simulate_uncontrolled(np.linspace(0, 20, 100), u)\n",
    "p.plot(res.t, res.y, [[p.step_function(_t)[i] for _t in res.t] for i in range(4)], flat=True)"
   ]
  },
  {
   "cell_type": "markdown",
   "id": "7ce38279-06f4-49cb-8e94-de956cca9fdd",
   "metadata": {
    "heading_collapsed": "true",
    "tags": []
   },
   "source": [
    "### Airlerons"
   ]
  },
  {
   "cell_type": "code",
   "execution_count": null,
   "id": "11ac9057-37fd-43cd-97f2-9eb968cad5b1",
   "metadata": {},
   "outputs": [],
   "source": [
    "u = np.array([[0, 0, 0, 0]] * 10 + [[0, 0, 1, 0]] * 90)\n",
    "res = p.simulate_uncontrolled(np.linspace(0, 20, 100), u)\n",
    "p.plot(res.t, res.y, [[p.step_function(_t)[i] for _t in res.t] for i in range(4)], flat=True)"
   ]
  },
  {
   "cell_type": "markdown",
   "id": "94716c7a-738c-4c93-9ad2-493bfc1efb05",
   "metadata": {
    "heading_collapsed": "true",
    "tags": []
   },
   "source": [
    "### Rudder"
   ]
  },
  {
   "cell_type": "code",
   "execution_count": null,
   "id": "d1602a05-f6f4-462c-907a-1a3e8cf273e1",
   "metadata": {},
   "outputs": [],
   "source": [
    "u = np.array([[0, 0, 0, 0]] * 10 + [[0, 0, 0, 1]] * 90)\n",
    "res = p.simulate_uncontrolled(np.linspace(0, 20, 100), u)\n",
    "p.plot(res.t, res.y, [[p.step_function(_t)[i] for _t in res.t] for i in range(4)], flat=True)"
   ]
  },
  {
   "cell_type": "markdown",
   "id": "00d244f6-0d30-46e5-8bca-356346755c0a",
   "metadata": {
    "heading_collapsed": "true",
    "tags": []
   },
   "source": [
    "## Design an RSLQR to track a constant airspeed command and a constant angle-of-attack command"
   ]
  },
  {
   "cell_type": "code",
   "execution_count": null,
   "id": "90e91892-fb70-41f1-b0db-e5680e1b91bd",
   "metadata": {},
   "outputs": [],
   "source": [
    "target_pos = [np.array([250, 0, 0, 0, 0, 0, 0, 0])] * 20 +  [np.array([255, 0.5, 0, 0, 0, 0, 0, 0])] * 80\n",
    "time_vect = np.linspace(0, 20, 100)"
   ]
  },
  {
   "cell_type": "code",
   "execution_count": null,
   "id": "2b4e1933-cd82-41e6-bb03-2ef73eea3a47",
   "metadata": {},
   "outputs": [],
   "source": [
    "R = np.diag([0.1, 0.1, 0.1, 0.1])\n",
    "Q = np.diag([10, 1, 1, 1, 1, 1, 1, 1, 10]) / 10"
   ]
  },
  {
   "cell_type": "code",
   "execution_count": null,
   "id": "46453cea-94c7-4776-ad83-d823573967eb",
   "metadata": {},
   "outputs": [],
   "source": [
    "p = Plane()"
   ]
  },
  {
   "cell_type": "code",
   "execution_count": null,
   "id": "a3d03599-558e-4f61-89e0-df017a8fe68e",
   "metadata": {},
   "outputs": [],
   "source": [
    "res = p.simulate_controlled(time_vector=time_vect, target_states=target_pos, Q=Q, R=R)"
   ]
  },
  {
   "cell_type": "code",
   "execution_count": null,
   "id": "ce5bad3f-8247-437c-81d9-4c285b8d30cb",
   "metadata": {},
   "outputs": [],
   "source": [
    "p.plot(res.t, res.y[:-1], [[0 for _t in res.t] for i in range(4)], flat=True, target=(time_vect, target_pos), input_=False)"
   ]
  },
  {
   "cell_type": "markdown",
   "id": "70dc2b4b-11a9-4d03-a6bd-5afc7cb0e0a7",
   "metadata": {
    "tags": []
   },
   "source": [
    "## Design an RSLQR to track a constant roll ($\\phi$) command"
   ]
  },
  {
   "cell_type": "code",
   "execution_count": null,
   "id": "d427154f-93c5-4856-b968-8122e3e3ae93",
   "metadata": {},
   "outputs": [],
   "source": [
    "target_pos = [np.array([250, 0, 0, 0, 0, 0, 0, 0])] * 20 +  [np.array([250, 0, 0, 0, 0, 0, 1, 0])] * 80\n",
    "time_vect = np.linspace(0, 20, 100)"
   ]
  },
  {
   "cell_type": "code",
   "execution_count": null,
   "id": "51710f82-2ff7-488e-9d7f-f502d34927bd",
   "metadata": {},
   "outputs": [],
   "source": [
    "R = np.diag([0.1, 0.1, 0.1,0.1])\n",
    "Q = np.diag([10, 1, 1, 1, 1, 1, 1, 1, 10]) / 10"
   ]
  },
  {
   "cell_type": "code",
   "execution_count": null,
   "id": "895f7827-cd1e-46bd-8f62-c7f5291eeaa8",
   "metadata": {},
   "outputs": [],
   "source": [
    "p = Plane()"
   ]
  },
  {
   "cell_type": "code",
   "execution_count": null,
   "id": "7dd7f971-5d06-4cc4-852e-075e75e0eb98",
   "metadata": {},
   "outputs": [],
   "source": [
    "res = p.simulate_controlled(time_vector=time_vect, target_states=target_pos, Q=Q, R=R)"
   ]
  },
  {
   "cell_type": "code",
   "execution_count": null,
   "id": "260e8aef-76d7-4a64-9abb-41d02644edb9",
   "metadata": {},
   "outputs": [],
   "source": [
    "p.plot(res.t, res.y[:-1], [[0 for _t in res.t] for i in range(4)], flat=True, target=(time_vect, target_pos), input_=False)"
   ]
  },
  {
   "cell_type": "code",
   "execution_count": null,
   "id": "c5ca27b8-7eac-4d83-8a3b-aa0918e72819",
   "metadata": {},
   "outputs": [],
   "source": [
    "# [[_y[ind][0] for _y in y] for ind in range(8)]"
   ]
  },
  {
   "cell_type": "code",
   "execution_count": null,
   "id": "f49312ba-6fcc-4157-b1d9-8702f0e83566",
   "metadata": {},
   "outputs": [],
   "source": []
  }
 ],
 "metadata": {
  "kernelspec": {
   "display_name": "Python 3.9.5 64-bit ('venv': venv)",
   "language": "python",
   "name": "python395jvsc74a57bd0986942971a8e34b0ef77a68950d40aa69a163544edcaa5d2f3e21fa57342cd1c"
  },
  "language_info": {
   "codemirror_mode": {
    "name": "ipython",
    "version": 3
   },
   "file_extension": ".py",
   "mimetype": "text/x-python",
   "name": "python",
   "nbconvert_exporter": "python",
   "pygments_lexer": "ipython3",
   "version": "3.9.5"
  }
 },
 "nbformat": 4,
 "nbformat_minor": 5
}
