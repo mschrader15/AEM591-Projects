{
 "cells": [
  {
   "cell_type": "markdown",
   "id": "cbc35b71-5279-46f3-a024-7639b177ad1d",
   "metadata": {},
   "source": [
    "# Project 1"
   ]
  },
  {
   "cell_type": "markdown",
   "id": "8bf67cbc-7e00-401a-b296-f2cb96fafa8c",
   "metadata": {},
   "source": [
    "Max Schrader\n",
    "\n",
    "AEM 591"
   ]
  },
  {
   "cell_type": "markdown",
   "id": "d4c8985a-95f8-4402-a944-9124d3a96f78",
   "metadata": {},
   "source": [
    "#### Resources\n",
    "\n",
    "https://towardsdatascience.com/on-simulating-non-linear-dynamic-systems-with-python-or-how-to-gain-insights-without-using-ml-353eebf8dcc3"
   ]
  },
  {
   "cell_type": "markdown",
   "id": "551495d5-943c-45c6-aeb5-3faadeaeec3d",
   "metadata": {},
   "source": [
    "## Pre-Processing"
   ]
  },
  {
   "cell_type": "code",
   "execution_count": 32,
   "id": "74c78878-a5cb-42d7-a8c1-2e4ecaf0730b",
   "metadata": {},
   "outputs": [],
   "source": [
    "import os\n",
    "from dataclasses import dataclass\n",
    "import math\n",
    "from typing import Union\n",
    "\n",
    "import pint\n",
    "import numpy as np\n",
    "# import control"
   ]
  },
  {
   "cell_type": "code",
   "execution_count": 2,
   "id": "f1518419-ddfd-4f81-a66a-7999740a9855",
   "metadata": {},
   "outputs": [],
   "source": [
    "ureg = pint.UnitRegistry()"
   ]
  },
  {
   "cell_type": "markdown",
   "id": "0369ecf7-b273-4aa9-b9f2-84cab99ed9be",
   "metadata": {},
   "source": [
    "### Constants"
   ]
  },
  {
   "cell_type": "code",
   "execution_count": 3,
   "id": "6da8b44b-f4ef-4240-a11e-d0deb9c42fbe",
   "metadata": {},
   "outputs": [],
   "source": [
    "@dataclass\n",
    "class Elevator:\n",
    "\n",
    "    I_m = 700 * ureg.kilogram * ureg.meter ** 2\n",
    "    K = 100 * ureg.newton * ureg.meter / ureg.ampere\n",
    "    L = 0.4 * ureg.H\n",
    "    m = 500 * ureg.kg\n",
    "    g = 1 * ureg.gravity\n",
    "    W = 300 * ureg.kilogram # unclear on what the units of this are\n",
    "    r_0 = 3 * ureg.meter\n",
    "    delta_c = 0.05 * ureg.meter\n",
    "    R_0 = 5 * ureg.ohm\n",
    "    delta_r = 5 * ureg.ohm\n",
    "    t_r = 3 * ureg.second"
   ]
  },
  {
   "cell_type": "markdown",
   "id": "f2ccc7f7-649f-4eca-9efe-5807fae72a34",
   "metadata": {},
   "source": [
    "### Given Equations"
   ]
  },
  {
   "cell_type": "code",
   "execution_count": 4,
   "id": "bb526f78-a477-4d0e-82a5-1ebca0a6d3f5",
   "metadata": {},
   "outputs": [
    {
     "data": {
      "text/html": [
       "2.0 ampere second volt"
      ],
      "text/latex": [
       "$2.0\\ \\mathrm{ampere} \\cdot \\mathrm{second} \\cdot \\mathrm{volt}$"
      ],
      "text/plain": [
       "2.0 <Unit('ampere * second * volt')>"
      ]
     },
     "execution_count": 4,
     "metadata": {},
     "output_type": "execute_result"
    }
   ],
   "source": [
    "# def F_c_R_c(t: ureg.second, )\n",
    "# Elevator.K * ureg.ampere + (Elevator.I_m / ureg.second ** 2 )/ ureg.meter\n",
    "K = 1 * ureg.volt * ureg.second \n",
    "J = 1 * ureg.kilogram * ureg.meter ** 2\n",
    "theta = (ureg.radian / ureg.second**2)\n",
    "K * ureg.amp + J * theta"
   ]
  },
  {
   "cell_type": "markdown",
   "id": "7f6c5fa3-3192-4653-86d0-01c5a92005aa",
   "metadata": {},
   "source": [
    "## Problem 1"
   ]
  },
  {
   "cell_type": "markdown",
   "id": "6395a07f-75fc-4797-a4b3-912146060165",
   "metadata": {},
   "source": [
    "Derive a state-space formulation using $x$, $\\dot{x}$, $i$, and $r$ as the states, $v(t)$ as the input, and $x$ and $\\dot{x}$ as the outputs."
   ]
  },
  {
   "cell_type": "markdown",
   "id": "b2c41239-b150-4fed-afd9-ea4f4b85cf4e",
   "metadata": {},
   "source": [
    "$$\\mathbf{\\dot{s}} (t)=\\mathbf {A} (t)\\mathbf {s} (t)+\\mathbf {B} (t)\\mathbf {u} (t)$$\n",
    "$$\\mathbf{y} (t)=\\mathbf {C} (t)\\mathbf {s} (t)+\\mathbf {D} (t)\\mathbf {u} (t)$$"
   ]
  },
  {
   "cell_type": "markdown",
   "id": "7ec19750-9e90-4f58-9212-eaa3b9f95c79",
   "metadata": {},
   "source": [
    "$$ \\mathbf{s} = \\begin{bmatrix}\n",
    "x \\\\\n",
    "\\dot{x} \\\\\n",
    "i \\\\\n",
    "r \n",
    "\\end{bmatrix},\\; \\mathbf{\\dot{s}} = \\begin{bmatrix}\n",
    "\\dot{x} \\\\\n",
    "\\ddot{x} \\\\\n",
    "\\dot{i} \\\\\n",
    "\\dot{r} \n",
    "\\end{bmatrix}$$\n",
    "\n",
    "$$\\mathbf{u} (t) = \\begin{bmatrix} \n",
    "v(t) \\\\\n",
    "1\n",
    "\\end{bmatrix}\n",
    "$$\n",
    "\n",
    "$$\n",
    "\\mathbf{y} (t) = \\begin{bmatrix} \n",
    "x \\\\\n",
    "\\dot{x}\n",
    "\\end{bmatrix}\n",
    "$$\n"
   ]
  },
  {
   "cell_type": "markdown",
   "id": "36a3fdcd-f8fc-4154-8ae3-8286189c8198",
   "metadata": {},
   "source": [
    "$$\\begin{align*}\n",
    "    \\dot{x} &= 0 x + 1 \\dot{x} + 0 i + 0 r + 0 v(t) \\\\\n",
    "    \\ddot{x} &= 0 x + 0 \\dot{x} + i \\frac{K}{r m - \\frac{I_m}{r}} + 0 v(t) + \\frac{w - m}{m - \\frac{I_m}{r^2}} g\\\\\n",
    "    \\dot{i} &= 0 x - \\frac{K}{L r(t)} \\dot{x} - \\frac{R(t)}{L} i + 0 r + \\frac{1}{L} v(t) \\\\\n",
    "    \\dot{r} &= 0x + \\frac{\\delta_c}{2 \\pi r} \\dot x + 0 i + 0 r + 0 v(t)\n",
    "\\end{align*}$$\n",
    "\n",
    "Where, \n",
    "\n",
    "$$G(t) = \\frac{I_m}{r(t)} - r(t) m$$\n"
   ]
  },
  {
   "cell_type": "markdown",
   "id": "22047c75-3b40-4462-bbf1-7740ed015dab",
   "metadata": {},
   "source": [
    "In matrix form,\n",
    "\n",
    "$$A(t) = \\begin{bmatrix}\n",
    "0 & 1 & 0 & 0 \\\\\n",
    "0 & 0 & \\frac{K}{r m - \\frac{I_m}{r}} & 0 \\\\\n",
    "0 & \\frac{K}{L r(t)} & \\frac{R(t)}{L} & 0 \\\\\n",
    "0 & \\frac{\\delta_c}{2 \\pi r} & 0 & 0 \n",
    "\\end{bmatrix}$$\n",
    "\n",
    "$$B(t) = \\begin{bmatrix}\n",
    "0 & 0 \\\\\n",
    "0 & \\frac{w - m}{m - \\frac{I_m}{r^2}} g \\\\\n",
    "\\frac{1}{L} & 0\\\\\n",
    "0 & 0 \n",
    "\\end{bmatrix}$$\n",
    "\n",
    "\n",
    "$$C(t) = \\begin{bmatrix}\n",
    "1 & 0 & 0 & 0\\\\\n",
    "0 & 1 & 0 & 0\\\\ \n",
    "\\end{bmatrix}$$\n",
    "\n",
    "$$D(t) = \\begin{bmatrix}\n",
    "0 & 0 \\\\\n",
    "0 & 0 \\\\ \n",
    "\\end{bmatrix}$$"
   ]
  },
  {
   "cell_type": "markdown",
   "id": "8e541b53-3897-417e-bc9f-38aa5d194f85",
   "metadata": {},
   "source": [
    "All together,\n",
    "\n",
    "$$\n",
    "\\begin{bmatrix}\n",
    "\\dot{x} \\\\\n",
    "\\ddot{x} \\\\\n",
    "\\dot{i} \\\\\n",
    "\\dot{r} \n",
    "\\end{bmatrix} = \n",
    "\\begin{bmatrix}\n",
    "0 & 1 & 0 & 0 \\\\\n",
    "0 & 0 & \\frac{K}{r m - \\frac{I_m}{r}} & 0 \\\\\n",
    "0 & \\frac{K}{L r(t)} & \\frac{R(t)}{L} & 0 \\\\\n",
    "0 & \\frac{\\delta_c}{2 \\pi r} & 0 & 0 \n",
    "\\end{bmatrix}\n",
    "\\begin{bmatrix}\n",
    "x \\\\\n",
    "\\dot{x} \\\\\n",
    "i \\\\\n",
    "r \n",
    "\\end{bmatrix} + \n",
    "\\begin{bmatrix}\n",
    "0 & 0 \\\\\n",
    "0 & \\frac{w - m}{m - \\frac{I_m}{r^2}} g \\\\\n",
    "\\frac{1}{L} & 0\\\\\n",
    "0 & 0 \n",
    "\\end{bmatrix}\n",
    "\\begin{bmatrix} \n",
    "v(t) \\\\\n",
    "1\n",
    "\\end{bmatrix}\n",
    "$$\n"
   ]
  },
  {
   "cell_type": "markdown",
   "id": "1e4f5f90-8b12-480b-b9e0-d78950147b2c",
   "metadata": {},
   "source": [
    "$$\\begin{bmatrix}\n",
    "x \\\\\n",
    "\\dot{x}\n",
    "\\end{bmatrix} = \n",
    "\\begin{bmatrix}\n",
    "1 & 0 & 0 & 0\\\\\n",
    "0 & 1 & 0 & 0\n",
    "\\end{bmatrix}\n",
    "\\begin{bmatrix}\n",
    "x \\\\\n",
    "\\dot{x} \\\\\n",
    "i \\\\\n",
    "r \n",
    "\\end{bmatrix} + \n",
    "\\begin{bmatrix}\n",
    "0 & 0 \\\\\n",
    "0 & 0\n",
    "\\end{bmatrix}\n",
    "\\begin{bmatrix} \n",
    "v(t) \\\\\n",
    "1\n",
    "\\end{bmatrix}$$"
   ]
  },
  {
   "cell_type": "markdown",
   "id": "43c2d13a-9110-480f-a36f-41c38021c9ea",
   "metadata": {},
   "source": [
    "Other maybe useful equations?\n",
    "\n",
    "$$ \\dot{r} (t) =\\frac{ \\delta_c \\dot{x} (t)}{2 \\pi r} = \\frac{dr}{dt} = \\frac{ \\delta_c \\frac{dx}{dt} (t)}{2 \\pi r}$$\n",
    "$$ 2 \\pi r dr = \\delta_c dx$$\n",
    "$$ \\int 2 \\pi r dr = \\int \\delta_c dx$$\n",
    "$$ \\pi r^2 + r_0 = \\delta_c x + x_0$$\n",
    "$$ x = \\frac{\\pi r^2 + r_0}{\\delta_c}$$"
   ]
  },
  {
   "cell_type": "markdown",
   "id": "cd886b6e-b6d0-4a57-b2d5-0d9d80a34189",
   "metadata": {},
   "source": [
    "### Nonlinear representation"
   ]
  },
  {
   "cell_type": "markdown",
   "id": "db62ee91-7f54-41a3-8f28-36d9c49bfd03",
   "metadata": {},
   "source": [
    "$$\\mathbf {\\dot {x}} (t)=\\mathbf {f} (t,x(t),u(t))$$"
   ]
  },
  {
   "cell_type": "code",
   "execution_count": 5,
   "id": "190461fa-4736-4cc1-a3e5-b5195564c6c8",
   "metadata": {},
   "outputs": [],
   "source": [
    "# g = lambda x:  \n",
    "class ElevatorNonLinear(Elevator):\n",
    "    def __init__(self, ):\n",
    "        pass\n",
    "    \n",
    "    @property\n",
    "    def v_t(self, ) -> pint.unit:\n",
    "        return 0 * ureg.volt\n",
    "    \n",
    "    def r_t(self, x_t: np.array) -> pint.unit: \n",
    "        return x_t[-1]\n",
    "    \n",
    "    def _g_t(self, r_t: float) -> pint.unit:\n",
    "        return self.I_m / r_t - r_t * self.m\n",
    "    \n",
    "    def _R_t(self, t) -> pint.unit:\n",
    "        return self.R_0 + self.delta_r * (1 - math.exp(-t / (self.t_r)))\n",
    "    \n",
    "#     def _g_x(self, x):\n",
    "        \n",
    "    def f(self, ) -> object:\n",
    "        def _f(x_t: np.array, t: float) -> np.array:\n",
    "            # only calc G(t) once\n",
    "            g_t = self._g_t(x_t[-1])\n",
    "            R_t = self._R_t(t)\n",
    "            r_t = self.r_t(x_t)\n",
    "            \n",
    "            x_dot = np.zeros(4)\n",
    "            x_dot[0] = x_t[1]\n",
    "            x_dot[1] = self.K / (r_t * self.m  - self.I_m / r_t) * x_t[2] + (self.w - self.m) / (self.m - (self.I_m / r_t ** 2)) * self.g\n",
    "            x_dot[2] = self.K * x_t[1] / (self.L * r_t) +  R_t / self.L * x_t[2] + self.v_t / self.L\n",
    "            x_dot[3] = self.delta_r * x_t[1] / (2 * math.pi * r_t)\n",
    "            return x_dot\n",
    "        return _f\n",
    "    \n",
    "    def out(self, ) -> object:\n",
    "        def _out(x_t: np.array, t: float) -> np.array:\n",
    "            out_dot = np.zeros(2)\n",
    "            out_dot[0] = x_t[0]\n",
    "            out_dot[1] = x_t[1]\n",
    "            return out_dot\n",
    "        return _out"
   ]
  },
  {
   "cell_type": "markdown",
   "id": "844b0220-c857-4cda-90a3-65e3aa449a32",
   "metadata": {},
   "source": [
    "## Problem 2"
   ]
  },
  {
   "cell_type": "markdown",
   "id": "d02a3ae4-cc7f-450b-9f61-e7474f847163",
   "metadata": {},
   "source": [
    "Linearize the state-space system about equilibrium at $x = 0$, $15$, and $30$ m for a value of $R = 10 \\Omega$ which occurs as $ t \\rightarrow \\infty$. Analyze the controllability, observability, and stability."
   ]
  },
  {
   "cell_type": "code",
   "execution_count": 113,
   "id": "79c56c8a-694f-4b90-ad35-fce289e736c6",
   "metadata": {},
   "outputs": [],
   "source": [
    "class ElevatorLinear(ElevatorNonLinear):\n",
    "    def __init__(self, x: float):\n",
    "        self.x = x * ureg.meter\n",
    "    \n",
    "    def r_t(self, *args, **kwargs) -> pint.unit:\n",
    "        return (self.r_0 ** 2 - self.delta_c * self.x / math.pi) ** (1/2)  \n",
    "    \n",
    "    def _R_t(self, *args, **kwargs) -> pint.unit:\n",
    "        return 10 * ureg.ohm\n",
    "    \n",
    "    @property\n",
    "    def A(self, ) -> np.array:\n",
    "        \n",
    "        r_t = self.r_t()\n",
    "        \n",
    "        return np.array([\n",
    "            [0, 1, 0, 0],\n",
    "            [0, 0, (self.K / (r_t * self.m  - self.I_m / r_t)).magnitude, 0],\n",
    "            [0, (self.K / (self.L * r_t)).magnitude, (self._R_t() / self.L).magnitude, 0],\n",
    "            [0, (self.delta_r / (2 * math.pi * r_t)).magnitude, 0, 0]\n",
    "        ])"
   ]
  },
  {
   "cell_type": "code",
   "execution_count": 114,
   "id": "6cd07b71-fa56-4fe9-98a1-f4c33432fe1b",
   "metadata": {},
   "outputs": [],
   "source": [
    "line_0 = ElevatorLinear(0)"
   ]
  },
  {
   "cell_type": "code",
   "execution_count": 115,
   "id": "8adf27f1-8a67-4561-b984-e9e19ba822b9",
   "metadata": {},
   "outputs": [
    {
     "data": {
      "text/plain": [
       "3.0"
      ]
     },
     "execution_count": 115,
     "metadata": {},
     "output_type": "execute_result"
    }
   ],
   "source": [
    "r_t = line_0.r_t()\n",
    "r_t.magnitude"
   ]
  },
  {
   "cell_type": "code",
   "execution_count": 107,
   "id": "7955f386-a886-408c-b719-74e7186e4b8b",
   "metadata": {},
   "outputs": [],
   "source": [
    "v = (line_0.K / (r_t * line_0.m  - line_0.I_m / r_t)).magnitude"
   ]
  },
  {
   "cell_type": "code",
   "execution_count": 112,
   "id": "35107941-afa3-4602-a12d-3529a5d7d65e",
   "metadata": {},
   "outputs": [
    {
     "data": {
      "text/plain": [
       "0.2652582384864922"
      ]
     },
     "execution_count": 112,
     "metadata": {},
     "output_type": "execute_result"
    }
   ],
   "source": [
    "# (line_0._R_t() / line_0.L).magnitude\n",
    "# (line_0.K / (line_0.L * r_t)).magnitude\n",
    "(line_0.delta_r / (2 * math.pi * r_t)).magnitude"
   ]
  },
  {
   "cell_type": "code",
   "execution_count": 116,
   "id": "4d8f68ee-6d5c-402a-a080-23c3075884a1",
   "metadata": {},
   "outputs": [
    {
     "data": {
      "text/plain": [
       "array([[0.00000000e+00, 1.00000000e+00, 0.00000000e+00, 0.00000000e+00],\n",
       "       [0.00000000e+00, 0.00000000e+00, 7.89473684e-02, 0.00000000e+00],\n",
       "       [0.00000000e+00, 8.33333333e+01, 2.50000000e+01, 0.00000000e+00],\n",
       "       [0.00000000e+00, 2.65258238e-01, 0.00000000e+00, 0.00000000e+00]])"
      ]
     },
     "execution_count": 116,
     "metadata": {},
     "output_type": "execute_result"
    }
   ],
   "source": [
    "line_0.A"
   ]
  },
  {
   "cell_type": "markdown",
   "id": "a95311e3-8e2a-47a9-90f5-43df9b708488",
   "metadata": {},
   "source": [
    "## Problem 3"
   ]
  },
  {
   "cell_type": "markdown",
   "id": "e9e9954e-c757-438b-91c9-19caeb62ca2e",
   "metadata": {},
   "source": [
    "Simulate the nonlinear system with doublet commands on $\\dot{v}$, both up and down, for initial conditions close and far from the linearized states, but including $t$. Use input values which keep the elevator velocity reasonable"
   ]
  },
  {
   "cell_type": "code",
   "execution_count": null,
   "id": "f3a5834c-5da7-4c50-b2bc-2c99a8f937d1",
   "metadata": {},
   "outputs": [],
   "source": []
  },
  {
   "cell_type": "markdown",
   "id": "ec1c9bad-2e49-421e-a7bc-79cf358e5e82",
   "metadata": {},
   "source": [
    "## Problem 4"
   ]
  },
  {
   "cell_type": "markdown",
   "id": "9b510394-fcb7-46ff-8de7-a26f47b889f3",
   "metadata": {},
   "source": [
    "Simulate the linearized system with doublet commands on $dot{v}$, both up and down, for initial conditions close to the linearized states. Use input values which keep the elevator velocity reasonable"
   ]
  },
  {
   "cell_type": "code",
   "execution_count": null,
   "id": "36ab7d54-2c24-4fe4-8163-3c67a39a5b12",
   "metadata": {},
   "outputs": [],
   "source": []
  },
  {
   "cell_type": "markdown",
   "id": "a441ad64-c9f9-449f-8723-c5145415cc4f",
   "metadata": {},
   "source": [
    "## Problem 5"
   ]
  },
  {
   "cell_type": "markdown",
   "id": "91fc7aa6-11ad-4eb2-a40c-edf59faf5436",
   "metadata": {},
   "source": [
    "Write a few paragraphs summarizing the results of these simulations and any analysis. Make sure to compare the linear simulations to the nonlinear."
   ]
  },
  {
   "cell_type": "code",
   "execution_count": null,
   "id": "0f3ac352-7378-4a58-a3be-97651b43ed8b",
   "metadata": {},
   "outputs": [],
   "source": []
  }
 ],
 "metadata": {
  "kernelspec": {
   "display_name": "Python 3",
   "language": "python",
   "name": "python3"
  },
  "language_info": {
   "codemirror_mode": {
    "name": "ipython",
    "version": 3
   },
   "file_extension": ".py",
   "mimetype": "text/x-python",
   "name": "python",
   "nbconvert_exporter": "python",
   "pygments_lexer": "ipython3",
   "version": "3.9.5"
  }
 },
 "nbformat": 4,
 "nbformat_minor": 5
}
