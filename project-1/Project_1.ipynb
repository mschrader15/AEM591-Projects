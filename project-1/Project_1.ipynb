{
 "cells": [
  {
   "cell_type": "markdown",
   "id": "cbc35b71-5279-46f3-a024-7639b177ad1d",
   "metadata": {},
   "source": [
    "# Project 1"
   ]
  },
  {
   "cell_type": "markdown",
   "id": "8bf67cbc-7e00-401a-b296-f2cb96fafa8c",
   "metadata": {},
   "source": [
    "Max Schrader\n",
    "\n",
    "AEM 591"
   ]
  },
  {
   "cell_type": "markdown",
   "id": "d4c8985a-95f8-4402-a944-9124d3a96f78",
   "metadata": {},
   "source": [
    "#### Resources\n",
    "\n",
    "https://towardsdatascience.com/on-simulating-non-linear-dynamic-systems-with-python-or-how-to-gain-insights-without-using-ml-353eebf8dcc3"
   ]
  },
  {
   "cell_type": "markdown",
   "id": "cb552b8c-f8d3-4bba-a981-78d9ae985df2",
   "metadata": {},
   "source": [
    "## Install the Required Packages"
   ]
  },
  {
   "cell_type": "code",
   "execution_count": 105,
   "id": "ca04c61a-6b04-40ac-8953-62c3781f0538",
   "metadata": {},
   "outputs": [
    {
     "name": "stdout",
     "output_type": "stream",
     "text": [
      "Looking in indexes: https://pypi.org/simple, https://packagecloud.io/github/git-lfs/pypi/simple\n",
      "Requirement already satisfied: pint in /home/linuxbrew/.linuxbrew/lib/python3.9/site-packages (0.17)\n",
      "Requirement already satisfied: packaging in /home/linuxbrew/.linuxbrew/lib/python3.9/site-packages (from pint) (20.9)\n",
      "Requirement already satisfied: pyparsing>=2.0.2 in /home/linuxbrew/.linuxbrew/lib/python3.9/site-packages (from packaging->pint) (2.4.7)\n",
      "\u001b[33mWARNING: You are using pip version 21.1.1; however, version 21.2.4 is available.\n",
      "You should consider upgrading via the '/home/linuxbrew/.linuxbrew/opt/python@3.9/bin/python3.9 -m pip install --upgrade pip' command.\u001b[0m\n",
      "Note: you may need to restart the kernel to use updated packages.\n",
      "Looking in indexes: https://pypi.org/simple, https://packagecloud.io/github/git-lfs/pypi/simple\n",
      "Requirement already satisfied: numpy in /home/linuxbrew/.linuxbrew/lib/python3.9/site-packages (1.20.3)\n",
      "\u001b[33mWARNING: You are using pip version 21.1.1; however, version 21.2.4 is available.\n",
      "You should consider upgrading via the '/home/linuxbrew/.linuxbrew/opt/python@3.9/bin/python3.9 -m pip install --upgrade pip' command.\u001b[0m\n",
      "Note: you may need to restart the kernel to use updated packages.\n",
      "Looking in indexes: https://pypi.org/simple, https://packagecloud.io/github/git-lfs/pypi/simple\n",
      "Requirement already satisfied: plotly in /home/linuxbrew/.linuxbrew/lib/python3.9/site-packages (5.3.1)\n",
      "Requirement already satisfied: tenacity>=6.2.0 in /home/linuxbrew/.linuxbrew/lib/python3.9/site-packages (from plotly) (8.0.1)\n",
      "Requirement already satisfied: six in /home/linuxbrew/.linuxbrew/lib/python3.9/site-packages (from plotly) (1.16.0)\n",
      "\u001b[33mWARNING: You are using pip version 21.1.1; however, version 21.2.4 is available.\n",
      "You should consider upgrading via the '/home/linuxbrew/.linuxbrew/opt/python@3.9/bin/python3.9 -m pip install --upgrade pip' command.\u001b[0m\n",
      "Note: you may need to restart the kernel to use updated packages.\n",
      "Looking in indexes: https://pypi.org/simple, https://packagecloud.io/github/git-lfs/pypi/simple\n",
      "Collecting prettytable\n",
      "  Downloading prettytable-2.2.0-py3-none-any.whl (23 kB)\n",
      "Requirement already satisfied: wcwidth in /home/linuxbrew/.linuxbrew/lib/python3.9/site-packages (from prettytable) (0.2.5)\n",
      "Installing collected packages: prettytable\n",
      "Successfully installed prettytable-2.2.0\n",
      "\u001b[33mWARNING: You are using pip version 21.1.1; however, version 21.2.4 is available.\n",
      "You should consider upgrading via the '/home/linuxbrew/.linuxbrew/opt/python@3.9/bin/python3.9 -m pip install --upgrade pip' command.\u001b[0m\n",
      "Note: you may need to restart the kernel to use updated packages.\n"
     ]
    }
   ],
   "source": [
    "%pip install pint\n",
    "%pip install numpy\n",
    "%pip install plotly\n",
    "%pip install prettytable"
   ]
  },
  {
   "cell_type": "markdown",
   "id": "551495d5-943c-45c6-aeb5-3faadeaeec3d",
   "metadata": {},
   "source": [
    "## Pre-Processing"
   ]
  },
  {
   "cell_type": "code",
   "execution_count": 215,
   "id": "74c78878-a5cb-42d7-a8c1-2e4ecaf0730b",
   "metadata": {},
   "outputs": [],
   "source": [
    "import os\n",
    "from dataclasses import dataclass\n",
    "import math\n",
    "from typing import Union\n",
    "\n",
    "import pint\n",
    "import numpy as np\n",
    "from scipy.integrate import odeint\n",
    "from prettytable import PrettyTable\n",
    "# import control"
   ]
  },
  {
   "cell_type": "code",
   "execution_count": 7,
   "id": "f1518419-ddfd-4f81-a66a-7999740a9855",
   "metadata": {},
   "outputs": [],
   "source": [
    "ureg = pint.UnitRegistry()"
   ]
  },
  {
   "cell_type": "code",
   "execution_count": 211,
   "id": "f95f99ac-5855-464b-a1a9-b477bcf677d9",
   "metadata": {},
   "outputs": [],
   "source": [
    "def pretty_print(array: np.array, headers: list) -> None:\n",
    "    x = PrettyTable()\n",
    "    x.field_names = headers\n",
    "    if len(headers) > 1 and len(array.shape) < 2:\n",
    "        x.add_row(list(map(lambda x: round(x, 3), array)))\n",
    "    else:\n",
    "        for row in array:\n",
    "#             if len(array.shape) > 1:\n",
    "            x.add_row(list(map(lambda x: round(x, 3), row)) \n",
    "                  if len(array.shape) > 1 else [round(row, 3)])\n",
    "\n",
    "#             x.add_row(round(row, 3))\n",
    "    print(x)"
   ]
  },
  {
   "cell_type": "markdown",
   "id": "0369ecf7-b273-4aa9-b9f2-84cab99ed9be",
   "metadata": {},
   "source": [
    "### Constants"
   ]
  },
  {
   "cell_type": "code",
   "execution_count": 333,
   "id": "6da8b44b-f4ef-4240-a11e-d0deb9c42fbe",
   "metadata": {},
   "outputs": [],
   "source": [
    "@dataclass\n",
    "class Elevator:\n",
    "\n",
    "    I_m = 700 * ureg.kilogram * ureg.meter ** 2\n",
    "    K = 100 * ureg.newton * ureg.meter / ureg.ampere\n",
    "    K_v = 100 * ureg.volt * ureg.second\n",
    "    L = 0.4 * ureg.H\n",
    "    m = 500 * ureg.kg\n",
    "    g = 1 * ureg.gravity\n",
    "    W = 300 * ureg.kilogram * 1 * ureg.gravity\n",
    "    r_0 = 3 * ureg.meter\n",
    "    delta_c = 0.05 * ureg.meter\n",
    "    R_0 = 5 * ureg.ohm\n",
    "    delta_r = 5 * ureg.ohm\n",
    "    t_r = 3 * ureg.second\n",
    "    \n",
    "    def r_t(self, x=None, *args, **kwargs) -> pint.unit:\n",
    "        x = x or self.x\n",
    "        return (self.delta_c * x / math.pi + self.r_0 ** 2) ** (1/2)  \n",
    "    \n",
    "    def R_t(self, t: float) -> pint.unit:\n",
    "        return self.R_0 + self.delta_r * (1 - math.exp(-t * ureg.second / (self.t_r)))\n",
    "    "
   ]
  },
  {
   "cell_type": "markdown",
   "id": "f2ccc7f7-649f-4eca-9efe-5807fae72a34",
   "metadata": {},
   "source": [
    "### Given Equations"
   ]
  },
  {
   "cell_type": "markdown",
   "id": "7f6c5fa3-3192-4653-86d0-01c5a92005aa",
   "metadata": {},
   "source": [
    "## Problem 1\n",
    "\n",
    "Setup two functions to compute the state and outputs in Python using the state-space system\n",
    "representation above"
   ]
  },
  {
   "cell_type": "code",
   "execution_count": 352,
   "id": "190461fa-4736-4cc1-a3e5-b5195564c6c8",
   "metadata": {},
   "outputs": [],
   "source": [
    "# g = lambda x:  \n",
    "class NonLinearElevator(Elevator):\n",
    "    def __init__(self, x: float, doublet_d_t: float=None, doublet_c: float=None):\n",
    "        self.doublet_c = doublet_c\n",
    "        self.doublet_d_t = doublet_d_t\n",
    "        self.x = x * ureg.meter\n",
    "    \n",
    "    def _f2_constant(self, r: float) -> float:\n",
    "        return 1 / (self.m * r - (self.I_m / r))\n",
    "    \n",
    "    def f(self, ) -> object:\n",
    "        # return inner function because scipy odeint doesn't like OOP \n",
    "        def _f(x_t: np.array, t: float) -> np.array:\n",
    "            x_dot = np.zeros(4)\n",
    "            \n",
    "            # Time Variant Fns\n",
    "            v_t = self.doublet(t)\n",
    "            \n",
    "            # X variant FN\n",
    "            r_t = self.r_t(x_t[0])\n",
    "            \n",
    "            x_dot[0] = x_t[1]\n",
    "            x_dot[1] = (self._f2_constant(r_t) * \\\n",
    "                (\n",
    "                    (self.W * r_t - self.m * self.g * r_t + self.K * (x_t[2] * ureg.amp)) - \n",
    "                        (self.I_m * self.delta_c * (x_t[1] * ureg.mps)**2) / \\\n",
    "                        (2 * math.pi * r_t ** 3)\n",
    "                )\n",
    "                       ).to('m/s^2').magnitude\n",
    "            \n",
    "            x_dot[2] = \\\n",
    "                (v_t / self.L - \\\n",
    "                ((self.R_t(t)) / self.L * x_t[2] * ureg.ampere) + \\\n",
    "                ((self.K_v * x_t[1] * ureg.mps) / (self.L * r_t))).to('A/s').magnitude\n",
    "            x_dot[3] = (self.delta_c * x_t[1] * ureg.mps/ (2 * math.pi * r_t)).to('m/s').magnitude\n",
    "            return x_dot\n",
    "        return _f\n",
    "    \n",
    "    def out(self, ) -> object:\n",
    "        def _out(x_t: np.array, t: float) -> np.array:\n",
    "            out_dot = np.zeros(2)\n",
    "            out_dot[0] = x_t[0]\n",
    "            out_dot[1] = x_t[1]\n",
    "            return out_dot\n",
    "        return _out\n",
    "    \n",
    "    def doublet(self, t: float) -> None:\n",
    "        return {\n",
    "            0: 0,\n",
    "            1: self.doublet_c,\n",
    "            2: -1 * self.doublet_c,\n",
    "            3: 0,\n",
    "        }[max(int(t // self.doublet_d_t), 3)] * ureg.volt"
   ]
  },
  {
   "cell_type": "markdown",
   "id": "844b0220-c857-4cda-90a3-65e3aa449a32",
   "metadata": {},
   "source": [
    "## Problem 2"
   ]
  },
  {
   "cell_type": "markdown",
   "id": "d02a3ae4-cc7f-450b-9f61-e7474f847163",
   "metadata": {},
   "source": [
    "ompute the linearized state-space system about three equilibrium/trim points at 𝑥 = 0,\n",
    "15, and 30 m for a steady-state value of 𝑅 = 𝑅0 +𝛿𝑅, i.e. 𝑅(𝑡) as 𝑡 → ∞. Analyze the\n",
    "controllability, observability, and stability in Python for the linearized system."
   ]
  },
  {
   "cell_type": "code",
   "execution_count": 335,
   "id": "79c56c8a-694f-4b90-ad35-fce289e736c6",
   "metadata": {},
   "outputs": [],
   "source": [
    "class LinearElevator(NonLinearElevator):\n",
    "    def __init__(self, *args, **kwargs):\n",
    "        super().__init__(*args, **kwargs)\n",
    "#         self.x = x * ureg.meter\n",
    "        \n",
    "    def R_t(self, *args, **kwargs) -> pint.unit:\n",
    "        return 10 * ureg.ohm\n",
    "    \n",
    "    \"\"\" Doing the linearized points as @property is not computationaly \n",
    "        efficient but makes the code most readable for me \"\"\"\n",
    "    @property\n",
    "    def x_bar(self, ) -> float:\n",
    "        return 0\n",
    "    \n",
    "    @property\n",
    "    def v_bar(self, ) -> float:\n",
    "        return ((self.m * self.g - self.W) * (self.R_0 + self.delta_r)) / self.K * self.r_t() \n",
    "    \n",
    "    @property\n",
    "    def i_bar(self, ) -> float:\n",
    "        return self.v_bar / (self.R_0 + self.delta_r)\n",
    "    \n",
    "    @property\n",
    "    def r_bar(self, ) -> float:\n",
    "        return self.K / (self.m * self.g - self.W) * self.i_bar\n",
    "    \n",
    "    def df1_dx(self, *args, **kwargs) -> np.array:\n",
    "        return np.array(\n",
    "        [\n",
    "            0, \n",
    "            1, \n",
    "            0, \n",
    "            0\n",
    "        ])\n",
    "    \n",
    "    def df2_dx(self, ) -> np.array:\n",
    "        return np.array(\n",
    "            [\n",
    "                0, \n",
    "                0, # (self.I_m * self.delta_c * x_t[1]) / (math.pi * self.m * r_t **4 + x_t[2] * math.pi * r_t ** 2) commented out because x_bar = 0\n",
    "                (self.K / (self.m * self.r_bar - (self.I_m / self.r_bar))).magnitude,\n",
    "                ((2 * self.I_m * math.pi * self.r_bar ** 4 * (self.g * self.m - self.W)) / (math.pi * self.r_bar ** 3 * (self.m * self.r_bar**2 - self.I_m) ** 2)).magnitude\n",
    "            ]\n",
    "        )\n",
    "    \n",
    "    def df3_dx(self, ) -> np.array:\n",
    "        return np.array(\n",
    "            [\n",
    "                0,\n",
    "                ((-1 * self.K) / (self.L * self.r_bar)).magnitude,\n",
    "                (self.R_t() / self.L).magnitude,\n",
    "                0 # because x_bar = 0\n",
    "            ]\n",
    "        )\n",
    "    \n",
    "    def df4_dx(self, ) -> np.array:\n",
    "        return np.array(\n",
    "            [\n",
    "                0,\n",
    "                (self.delta_c / (2 * math.pi * self.r_bar)).magnitude,\n",
    "                0,\n",
    "                0\n",
    "            ]\n",
    "        )\n",
    "    \n",
    "    @property\n",
    "    def A(self, ) -> np.array:\n",
    "        return np.array(\n",
    "            [\n",
    "                self.df1_dx(),\n",
    "                self.df2_dx(),\n",
    "                self.df3_dx(),\n",
    "                self.df4_dx()\n",
    "            ]\n",
    "        )\n",
    "    \n",
    "    @property\n",
    "    def B(self, ) -> np.array:\n",
    "        return np.array(\n",
    "            [\n",
    "                0,\n",
    "                0,\n",
    "                (1 / self.L).magnitude,\n",
    "                0\n",
    "            ]\n",
    "        )\n",
    "    \n",
    "    @property\n",
    "    def C(self, ) -> np.array:\n",
    "        return np.array(\n",
    "            [1, 0, 0, 0],\n",
    "            [0, 1, 0, 0]\n",
    "        )\n",
    "        \n",
    "    def D(self, ) -> np.array:\n",
    "        return np.array(\n",
    "            [0, 0, 0, 0]\n",
    "        )"
   ]
  },
  {
   "cell_type": "markdown",
   "id": "5190c269-7292-4fa3-bd85-7a7761738018",
   "metadata": {},
   "source": [
    "### Checking the Units"
   ]
  },
  {
   "cell_type": "code",
   "execution_count": 190,
   "id": "7a77a049-a716-4ea3-81fa-29071be4c30a",
   "metadata": {},
   "outputs": [],
   "source": [
    "elevator = LinearElevator(x=100)\n",
    "# this should never be done\n",
    "self = elevator"
   ]
  },
  {
   "cell_type": "markdown",
   "id": "3ec11bf4-386c-43e7-873e-daeb42f97829",
   "metadata": {},
   "source": [
    "#### df2_dx"
   ]
  },
  {
   "cell_type": "code",
   "execution_count": 191,
   "id": "b17ad932-f508-459e-a2c3-a9f849c8edf8",
   "metadata": {},
   "outputs": [],
   "source": [
    "r_const = ((2 * self.I_m * math.pi * self.r_bar ** 4 * (self.g * self.m - self.W)) / (math.pi * self.r_bar ** 3 * (self.m * self.r_bar**2 - self.I_m) ** 2))\n",
    "i_const = self.K / (self.m * self.r_bar - (self.I_m / self.r_bar))"
   ]
  },
  {
   "cell_type": "code",
   "execution_count": 192,
   "id": "6f45e8a3-4c8e-4cad-866e-796736638d3f",
   "metadata": {},
   "outputs": [],
   "source": [
    "final = ((i_const * 1 * ureg.ampere) + (r_const * 1 * ureg.meter))\n",
    "assert final.units == 1 * ureg.mps / ureg.second"
   ]
  },
  {
   "cell_type": "markdown",
   "id": "29ddb608-c6a3-4ef7-b124-4637c6d3b7e2",
   "metadata": {},
   "source": [
    "#### df3_dx"
   ]
  },
  {
   "cell_type": "code",
   "execution_count": 194,
   "id": "d7df84a4-0743-471e-bca9-0506e8187f05",
   "metadata": {},
   "outputs": [],
   "source": [
    "x_dot_const = (-1 * self.K) / (self.L * self.r_bar)\n",
    "i_const = self.R_t() / self.L"
   ]
  },
  {
   "cell_type": "code",
   "execution_count": 195,
   "id": "f81132e2-a101-415b-a7f1-9f664254760f",
   "metadata": {},
   "outputs": [],
   "source": [
    "final = (x_dot_const * 1 * ureg.mps) + (i_const * 1 * ureg.ampere)\n",
    "assert final.units == 1 * ureg.amp / ureg.second"
   ]
  },
  {
   "cell_type": "markdown",
   "id": "4346adb7-4f42-4bf2-b793-14a3a6f2421d",
   "metadata": {},
   "source": [
    "#### df4_dx"
   ]
  },
  {
   "cell_type": "code",
   "execution_count": 196,
   "id": "15778c8a-21ad-43bd-9616-b6ae2cc7d840",
   "metadata": {},
   "outputs": [],
   "source": [
    "x_dot_const = self.delta_c / (2 * math.pi * self.r_bar)"
   ]
  },
  {
   "cell_type": "code",
   "execution_count": 197,
   "id": "0db8af75-5d8f-450f-8fa7-b01e351c3d5b",
   "metadata": {},
   "outputs": [],
   "source": [
    "final = x_dot_const * 1 * ureg.mps\n",
    "assert final.units == 1 * ureg.mps"
   ]
  },
  {
   "cell_type": "markdown",
   "id": "0280c30c-4793-41e1-8898-3809c49aa17d",
   "metadata": {},
   "source": [
    "### State Space at $x = 0$"
   ]
  },
  {
   "cell_type": "code",
   "execution_count": 198,
   "id": "e58cbaeb-a5d7-44ed-befe-fd8314f8977d",
   "metadata": {},
   "outputs": [
    {
     "name": "stdout",
     "output_type": "stream",
     "text": [
      "+-----+---------+-------+-------+\n",
      "|  x  |  x_dot  |   i   |   r   |\n",
      "+-----+---------+-------+-------+\n",
      "| 0.0 |   1.0   |  0.0  |  0.0  |\n",
      "| 0.0 |   0.0   | 0.079 | 0.058 |\n",
      "| 0.0 | -83.333 |  25.0 |  0.0  |\n",
      "| 0.0 |  0.003  |  0.0  |  0.0  |\n",
      "+-----+---------+-------+-------+\n"
     ]
    }
   ],
   "source": [
    "elevator = LinearElevator(x=0)\n",
    "pretty_print(elevator.A, ['x', 'x_dot', 'i', 'r'])"
   ]
  },
  {
   "cell_type": "code",
   "execution_count": 199,
   "id": "900088a0-920f-4f13-afbd-de77a9241802",
   "metadata": {},
   "outputs": [
    {
     "name": "stdout",
     "output_type": "stream",
     "text": [
      "+-----+\n",
      "|  v  |\n",
      "+-----+\n",
      "| 0.0 |\n",
      "| 0.0 |\n",
      "| 2.5 |\n",
      "| 0.0 |\n",
      "+-----+\n"
     ]
    }
   ],
   "source": [
    "pretty_print(elevator.B, ['v'])"
   ]
  },
  {
   "cell_type": "code",
   "execution_count": 200,
   "id": "b3653781-099f-4900-a2be-4dcd7c189bb2",
   "metadata": {},
   "outputs": [
    {
     "data": {
      "text/html": [
       "588.399 volt"
      ],
      "text/latex": [
       "$588.399\\ \\mathrm{volt}$"
      ],
      "text/plain": [
       "588.399 <Unit('volt')>"
      ]
     },
     "execution_count": 200,
     "metadata": {},
     "output_type": "execute_result"
    }
   ],
   "source": [
    "elevator.v_bar.to('V')"
   ]
  },
  {
   "cell_type": "markdown",
   "id": "181d5199-7c27-4abe-871e-e4333a03e2a9",
   "metadata": {},
   "source": [
    "#### Finding the stability"
   ]
  },
  {
   "cell_type": "code",
   "execution_count": 201,
   "id": "c07778bf-bfd4-4721-8187-f27ec0ad6582",
   "metadata": {},
   "outputs": [
    {
     "data": {
      "text/plain": [
       "array([ 0.00000000e+00,  2.47340121e+01,  2.66573018e-01, -5.85073228e-04])"
      ]
     },
     "execution_count": 201,
     "metadata": {},
     "output_type": "execute_result"
    }
   ],
   "source": [
    "np.linalg.eigvals(elevator.A)"
   ]
  },
  {
   "cell_type": "code",
   "execution_count": 202,
   "id": "6bcad50a-38d8-44cc-834a-00c95d6c9ddb",
   "metadata": {},
   "outputs": [
    {
     "data": {
      "text/plain": [
       "3"
      ]
     },
     "execution_count": 202,
     "metadata": {},
     "output_type": "execute_result"
    }
   ],
   "source": [
    "np.linalg.matrix_rank(elevator.A)"
   ]
  },
  {
   "cell_type": "markdown",
   "id": "a95311e3-8e2a-47a9-90f5-43df9b708488",
   "metadata": {},
   "source": [
    "## Problem 3"
   ]
  },
  {
   "cell_type": "markdown",
   "id": "e9e9954e-c757-438b-91c9-19caeb62ca2e",
   "metadata": {},
   "source": [
    "Simulate the nonlinear system with doublet commands on $\\dot{v}$, both up and down, for initial conditions close and far from the linearized states, but including $t$. Use input values which keep the elevator velocity reasonable"
   ]
  },
  {
   "cell_type": "code",
   "execution_count": 336,
   "id": "f3a5834c-5da7-4c50-b2bc-2c99a8f937d1",
   "metadata": {},
   "outputs": [
    {
     "name": "stdout",
     "output_type": "stream",
     "text": [
      "+-----+-------+-----+-----+\n",
      "|  x  | x_dot |  i  |  r  |\n",
      "+-----+-------+-----+-----+\n",
      "| 0.0 |  0.0  | 0.0 | 3.0 |\n",
      "+-----+-------+-----+-----+\n"
     ]
    }
   ],
   "source": [
    "x = 0\n",
    "doublet_magnitude = LinearElevator(x).v_bar\n",
    "doublet_dt = 10\n",
    "\n",
    "t = np.linspace(0, 20, 1000)\n",
    "elevator = NonLinearElevator(x, doublet_c=doublet_magnitude, doublet_d_t=doublet_dt)\n",
    "\n",
    "# compose the initial conditions\n",
    "x0 = np.array([elevator.x.magnitude, 0, 0, elevator.r_t(elevator.x).magnitude])\n",
    "pretty_print(x0, headers=['x', 'x_dot', 'i', 'r'])"
   ]
  },
  {
   "cell_type": "code",
   "execution_count": 337,
   "id": "3657b3bc-8da6-4919-8c7c-62eed1d08ad1",
   "metadata": {},
   "outputs": [],
   "source": [
    "# s = odeint(elevator.f(), y0=x0, t=t)\n",
    "self = elevator\n",
    "\n",
    "x_t = np.array([1, 1, 1, 1])\n",
    "t = 0"
   ]
  },
  {
   "cell_type": "code",
   "execution_count": 347,
   "id": "56922e2d-44ca-4056-8c82-0de0d00bbdfa",
   "metadata": {},
   "outputs": [
    {
     "data": {
      "text/plain": [
       "<UnitsContainer({'[current]': 1, '[time]': -1})>"
      ]
     },
     "execution_count": 347,
     "metadata": {},
     "output_type": "execute_result"
    }
   ],
   "source": [
    "(self.doublet(t) / self.L).dimensionality"
   ]
  },
  {
   "cell_type": "code",
   "execution_count": 351,
   "id": "235b1701-45c4-40fd-9eb7-4d788c42227c",
   "metadata": {},
   "outputs": [
    {
     "data": {
      "text/html": [
       "0.0026525823848649226 meter_per_second"
      ],
      "text/latex": [
       "$0.0026525823848649226\\ \\mathrm{meter\\_per\\_second}$"
      ],
      "text/plain": [
       "0.0026525823848649226 <Unit('meter_per_second')>"
      ]
     },
     "execution_count": 351,
     "metadata": {},
     "output_type": "execute_result"
    }
   ],
   "source": [
    "self.delta_c * x_t[1]*ureg.mps / (2 * math.pi * r_t)"
   ]
  },
  {
   "cell_type": "code",
   "execution_count": 326,
   "id": "be2da4c8-e212-4ded-97fa-1c101b7925b1",
   "metadata": {},
   "outputs": [
    {
     "ename": "UndefinedUnitError",
     "evalue": "'Vs' is not defined in the unit registry",
     "output_type": "error",
     "traceback": [
      "\u001b[0;31m---------------------------------------------------------------------------\u001b[0m",
      "\u001b[0;31mUndefinedUnitError\u001b[0m                        Traceback (most recent call last)",
      "\u001b[0;32m<ipython-input-326-250ba2a7eb89>\u001b[0m in \u001b[0;36m<module>\u001b[0;34m\u001b[0m\n\u001b[0;32m----> 1\u001b[0;31m \u001b[0mself\u001b[0m\u001b[0;34m.\u001b[0m\u001b[0mK\u001b[0m\u001b[0;34m.\u001b[0m\u001b[0mto\u001b[0m\u001b[0;34m(\u001b[0m\u001b[0;34m'Vs'\u001b[0m\u001b[0;34m)\u001b[0m\u001b[0;34m\u001b[0m\u001b[0;34m\u001b[0m\u001b[0m\n\u001b[0m",
      "\u001b[0;32m/home/linuxbrew/.linuxbrew/opt/python@3.9/lib/python3.9/site-packages/pint/quantity.py\u001b[0m in \u001b[0;36mto\u001b[0;34m(self, other, *contexts, **ctx_kwargs)\u001b[0m\n\u001b[1;32m    656\u001b[0m         \u001b[0mpint\u001b[0m\u001b[0;34m.\u001b[0m\u001b[0mQuantity\u001b[0m\u001b[0;34m\u001b[0m\u001b[0;34m\u001b[0m\u001b[0m\n\u001b[1;32m    657\u001b[0m         \"\"\"\n\u001b[0;32m--> 658\u001b[0;31m         \u001b[0mother\u001b[0m \u001b[0;34m=\u001b[0m \u001b[0mto_units_container\u001b[0m\u001b[0;34m(\u001b[0m\u001b[0mother\u001b[0m\u001b[0;34m,\u001b[0m \u001b[0mself\u001b[0m\u001b[0;34m.\u001b[0m\u001b[0m_REGISTRY\u001b[0m\u001b[0;34m)\u001b[0m\u001b[0;34m\u001b[0m\u001b[0;34m\u001b[0m\u001b[0m\n\u001b[0m\u001b[1;32m    659\u001b[0m \u001b[0;34m\u001b[0m\u001b[0m\n\u001b[1;32m    660\u001b[0m         \u001b[0mmagnitude\u001b[0m \u001b[0;34m=\u001b[0m \u001b[0mself\u001b[0m\u001b[0;34m.\u001b[0m\u001b[0m_convert_magnitude_not_inplace\u001b[0m\u001b[0;34m(\u001b[0m\u001b[0mother\u001b[0m\u001b[0;34m,\u001b[0m \u001b[0;34m*\u001b[0m\u001b[0mcontexts\u001b[0m\u001b[0;34m,\u001b[0m \u001b[0;34m**\u001b[0m\u001b[0mctx_kwargs\u001b[0m\u001b[0;34m)\u001b[0m\u001b[0;34m\u001b[0m\u001b[0;34m\u001b[0m\u001b[0m\n",
      "\u001b[0;32m/home/linuxbrew/.linuxbrew/opt/python@3.9/lib/python3.9/site-packages/pint/util.py\u001b[0m in \u001b[0;36mto_units_container\u001b[0;34m(unit_like, registry)\u001b[0m\n\u001b[1;32m    881\u001b[0m     \u001b[0;32melif\u001b[0m \u001b[0mstr\u001b[0m \u001b[0;32min\u001b[0m \u001b[0mmro\u001b[0m\u001b[0;34m:\u001b[0m\u001b[0;34m\u001b[0m\u001b[0;34m\u001b[0m\u001b[0m\n\u001b[1;32m    882\u001b[0m         \u001b[0;32mif\u001b[0m \u001b[0mregistry\u001b[0m\u001b[0;34m:\u001b[0m\u001b[0;34m\u001b[0m\u001b[0;34m\u001b[0m\u001b[0m\n\u001b[0;32m--> 883\u001b[0;31m             \u001b[0;32mreturn\u001b[0m \u001b[0mregistry\u001b[0m\u001b[0;34m.\u001b[0m\u001b[0m_parse_units\u001b[0m\u001b[0;34m(\u001b[0m\u001b[0munit_like\u001b[0m\u001b[0;34m)\u001b[0m\u001b[0;34m\u001b[0m\u001b[0;34m\u001b[0m\u001b[0m\n\u001b[0m\u001b[1;32m    884\u001b[0m         \u001b[0;32melse\u001b[0m\u001b[0;34m:\u001b[0m\u001b[0;34m\u001b[0m\u001b[0;34m\u001b[0m\u001b[0m\n\u001b[1;32m    885\u001b[0m             \u001b[0;32mreturn\u001b[0m \u001b[0mParserHelper\u001b[0m\u001b[0;34m.\u001b[0m\u001b[0mfrom_string\u001b[0m\u001b[0;34m(\u001b[0m\u001b[0munit_like\u001b[0m\u001b[0;34m)\u001b[0m\u001b[0;34m\u001b[0m\u001b[0;34m\u001b[0m\u001b[0m\n",
      "\u001b[0;32m/home/linuxbrew/.linuxbrew/opt/python@3.9/lib/python3.9/site-packages/pint/registry.py\u001b[0m in \u001b[0;36m_parse_units\u001b[0;34m(self, input_string, as_delta, case_sensitive)\u001b[0m\n\u001b[1;32m   1304\u001b[0m             \u001b[0mas_delta\u001b[0m \u001b[0;34m=\u001b[0m \u001b[0mself\u001b[0m\u001b[0;34m.\u001b[0m\u001b[0mdefault_as_delta\u001b[0m\u001b[0;34m\u001b[0m\u001b[0;34m\u001b[0m\u001b[0m\n\u001b[1;32m   1305\u001b[0m \u001b[0;34m\u001b[0m\u001b[0m\n\u001b[0;32m-> 1306\u001b[0;31m         \u001b[0;32mreturn\u001b[0m \u001b[0msuper\u001b[0m\u001b[0;34m(\u001b[0m\u001b[0;34m)\u001b[0m\u001b[0;34m.\u001b[0m\u001b[0m_parse_units\u001b[0m\u001b[0;34m(\u001b[0m\u001b[0minput_string\u001b[0m\u001b[0;34m,\u001b[0m \u001b[0mas_delta\u001b[0m\u001b[0;34m,\u001b[0m \u001b[0mcase_sensitive\u001b[0m\u001b[0;34m)\u001b[0m\u001b[0;34m\u001b[0m\u001b[0;34m\u001b[0m\u001b[0m\n\u001b[0m\u001b[1;32m   1307\u001b[0m \u001b[0;34m\u001b[0m\u001b[0m\n\u001b[1;32m   1308\u001b[0m     \u001b[0;32mdef\u001b[0m \u001b[0m_define\u001b[0m\u001b[0;34m(\u001b[0m\u001b[0mself\u001b[0m\u001b[0;34m,\u001b[0m \u001b[0mdefinition\u001b[0m\u001b[0;34m)\u001b[0m\u001b[0;34m:\u001b[0m\u001b[0;34m\u001b[0m\u001b[0;34m\u001b[0m\u001b[0m\n",
      "\u001b[0;32m/home/linuxbrew/.linuxbrew/opt/python@3.9/lib/python3.9/site-packages/pint/registry.py\u001b[0m in \u001b[0;36m_parse_units\u001b[0;34m(self, input_string, as_delta, case_sensitive)\u001b[0m\n\u001b[1;32m   1119\u001b[0m         \u001b[0mmany\u001b[0m \u001b[0;34m=\u001b[0m \u001b[0mlen\u001b[0m\u001b[0;34m(\u001b[0m\u001b[0munits\u001b[0m\u001b[0;34m)\u001b[0m \u001b[0;34m>\u001b[0m \u001b[0;36m1\u001b[0m\u001b[0;34m\u001b[0m\u001b[0;34m\u001b[0m\u001b[0m\n\u001b[1;32m   1120\u001b[0m         \u001b[0;32mfor\u001b[0m \u001b[0mname\u001b[0m \u001b[0;32min\u001b[0m \u001b[0munits\u001b[0m\u001b[0;34m:\u001b[0m\u001b[0;34m\u001b[0m\u001b[0;34m\u001b[0m\u001b[0m\n\u001b[0;32m-> 1121\u001b[0;31m             \u001b[0mcname\u001b[0m \u001b[0;34m=\u001b[0m \u001b[0mself\u001b[0m\u001b[0;34m.\u001b[0m\u001b[0mget_name\u001b[0m\u001b[0;34m(\u001b[0m\u001b[0mname\u001b[0m\u001b[0;34m,\u001b[0m \u001b[0mcase_sensitive\u001b[0m\u001b[0;34m=\u001b[0m\u001b[0mcase_sensitive\u001b[0m\u001b[0;34m)\u001b[0m\u001b[0;34m\u001b[0m\u001b[0;34m\u001b[0m\u001b[0m\n\u001b[0m\u001b[1;32m   1122\u001b[0m             \u001b[0mvalue\u001b[0m \u001b[0;34m=\u001b[0m \u001b[0munits\u001b[0m\u001b[0;34m[\u001b[0m\u001b[0mname\u001b[0m\u001b[0;34m]\u001b[0m\u001b[0;34m\u001b[0m\u001b[0;34m\u001b[0m\u001b[0m\n\u001b[1;32m   1123\u001b[0m             \u001b[0;32mif\u001b[0m \u001b[0;32mnot\u001b[0m \u001b[0mcname\u001b[0m\u001b[0;34m:\u001b[0m\u001b[0;34m\u001b[0m\u001b[0;34m\u001b[0m\u001b[0m\n",
      "\u001b[0;32m/home/linuxbrew/.linuxbrew/opt/python@3.9/lib/python3.9/site-packages/pint/registry.py\u001b[0m in \u001b[0;36mget_name\u001b[0;34m(self, name_or_alias, case_sensitive)\u001b[0m\n\u001b[1;32m    641\u001b[0m         \u001b[0mcandidates\u001b[0m \u001b[0;34m=\u001b[0m \u001b[0mself\u001b[0m\u001b[0;34m.\u001b[0m\u001b[0mparse_unit_name\u001b[0m\u001b[0;34m(\u001b[0m\u001b[0mname_or_alias\u001b[0m\u001b[0;34m,\u001b[0m \u001b[0mcase_sensitive\u001b[0m\u001b[0;34m)\u001b[0m\u001b[0;34m\u001b[0m\u001b[0;34m\u001b[0m\u001b[0m\n\u001b[1;32m    642\u001b[0m         \u001b[0;32mif\u001b[0m \u001b[0;32mnot\u001b[0m \u001b[0mcandidates\u001b[0m\u001b[0;34m:\u001b[0m\u001b[0;34m\u001b[0m\u001b[0;34m\u001b[0m\u001b[0m\n\u001b[0;32m--> 643\u001b[0;31m             \u001b[0;32mraise\u001b[0m \u001b[0mUndefinedUnitError\u001b[0m\u001b[0;34m(\u001b[0m\u001b[0mname_or_alias\u001b[0m\u001b[0;34m)\u001b[0m\u001b[0;34m\u001b[0m\u001b[0;34m\u001b[0m\u001b[0m\n\u001b[0m\u001b[1;32m    644\u001b[0m         \u001b[0;32melif\u001b[0m \u001b[0mlen\u001b[0m\u001b[0;34m(\u001b[0m\u001b[0mcandidates\u001b[0m\u001b[0;34m)\u001b[0m \u001b[0;34m==\u001b[0m \u001b[0;36m1\u001b[0m\u001b[0;34m:\u001b[0m\u001b[0;34m\u001b[0m\u001b[0;34m\u001b[0m\u001b[0m\n\u001b[1;32m    645\u001b[0m             \u001b[0mprefix\u001b[0m\u001b[0;34m,\u001b[0m \u001b[0munit_name\u001b[0m\u001b[0;34m,\u001b[0m \u001b[0m_\u001b[0m \u001b[0;34m=\u001b[0m \u001b[0mcandidates\u001b[0m\u001b[0;34m[\u001b[0m\u001b[0;36m0\u001b[0m\u001b[0;34m]\u001b[0m\u001b[0;34m\u001b[0m\u001b[0;34m\u001b[0m\u001b[0m\n",
      "\u001b[0;31mUndefinedUnitError\u001b[0m: 'Vs' is not defined in the unit registry"
     ]
    }
   ],
   "source": [
    "self.K.to('Vs')"
   ]
  },
  {
   "cell_type": "code",
   "execution_count": 302,
   "id": "21b5f167-0279-4183-81f9-456538e2d4de",
   "metadata": {},
   "outputs": [
    {
     "ename": "DimensionalityError",
     "evalue": "Cannot convert from 'second / henry' ([current] ** 2 * [time] ** 3 / [length] ** 2 / [mass]) to 'ampere * ohm / henry' ([current] / [time])",
     "output_type": "error",
     "traceback": [
      "\u001b[0;31m---------------------------------------------------------------------------\u001b[0m",
      "\u001b[0;31mDimensionalityError\u001b[0m                       Traceback (most recent call last)",
      "\u001b[0;32m<ipython-input-302-7526df46fc63>\u001b[0m in \u001b[0;36m<module>\u001b[0;34m\u001b[0m\n\u001b[1;32m      5\u001b[0m \u001b[0mt\u001b[0m \u001b[0;34m=\u001b[0m \u001b[0;36m0\u001b[0m\u001b[0;34m\u001b[0m\u001b[0;34m\u001b[0m\u001b[0m\n\u001b[1;32m      6\u001b[0m \u001b[0;34m\u001b[0m\u001b[0m\n\u001b[0;32m----> 7\u001b[0;31m \u001b[0mself\u001b[0m\u001b[0;34m.\u001b[0m\u001b[0mdoublet\u001b[0m\u001b[0;34m(\u001b[0m\u001b[0mt\u001b[0m\u001b[0;34m)\u001b[0m \u001b[0;34m/\u001b[0m \u001b[0mself\u001b[0m\u001b[0;34m.\u001b[0m\u001b[0mL\u001b[0m \u001b[0;34m-\u001b[0m\u001b[0;31m \u001b[0m\u001b[0;31m\\\u001b[0m\u001b[0;34m\u001b[0m\u001b[0;34m\u001b[0m\u001b[0m\n\u001b[0m\u001b[1;32m      8\u001b[0m                 \u001b[0;34m(\u001b[0m\u001b[0;34m(\u001b[0m\u001b[0mself\u001b[0m\u001b[0;34m.\u001b[0m\u001b[0mR_t\u001b[0m\u001b[0;34m(\u001b[0m\u001b[0mt\u001b[0m\u001b[0;34m)\u001b[0m\u001b[0;34m)\u001b[0m \u001b[0;34m/\u001b[0m \u001b[0mself\u001b[0m\u001b[0;34m.\u001b[0m\u001b[0mL\u001b[0m \u001b[0;34m*\u001b[0m \u001b[0mx_t\u001b[0m\u001b[0;34m[\u001b[0m\u001b[0;36m2\u001b[0m\u001b[0;34m]\u001b[0m \u001b[0;34m*\u001b[0m \u001b[0mureg\u001b[0m\u001b[0;34m.\u001b[0m\u001b[0mampere\u001b[0m\u001b[0;34m)\u001b[0m \u001b[0;34m-\u001b[0m\u001b[0;31m \u001b[0m\u001b[0;31m\\\u001b[0m\u001b[0;34m\u001b[0m\u001b[0;34m\u001b[0m\u001b[0m\n\u001b[1;32m      9\u001b[0m                 \u001b[0;34m(\u001b[0m\u001b[0mself\u001b[0m\u001b[0;34m.\u001b[0m\u001b[0mK\u001b[0m \u001b[0;34m*\u001b[0m \u001b[0mx_t\u001b[0m\u001b[0;34m[\u001b[0m\u001b[0;36m1\u001b[0m\u001b[0;34m]\u001b[0m \u001b[0;34m*\u001b[0m \u001b[0mureg\u001b[0m\u001b[0;34m.\u001b[0m\u001b[0mmps\u001b[0m\u001b[0;34m)\u001b[0m \u001b[0;34m/\u001b[0m \u001b[0;34m(\u001b[0m\u001b[0mself\u001b[0m\u001b[0;34m.\u001b[0m\u001b[0mL\u001b[0m \u001b[0;34m*\u001b[0m \u001b[0mr_t\u001b[0m\u001b[0;34m)\u001b[0m\u001b[0;34m\u001b[0m\u001b[0;34m\u001b[0m\u001b[0m\n",
      "\u001b[0;32m/home/linuxbrew/.linuxbrew/opt/python@3.9/lib/python3.9/site-packages/pint/quantity.py\u001b[0m in \u001b[0;36m__sub__\u001b[0;34m(self, other)\u001b[0m\n\u001b[1;32m   1087\u001b[0m \u001b[0;34m\u001b[0m\u001b[0m\n\u001b[1;32m   1088\u001b[0m     \u001b[0;32mdef\u001b[0m \u001b[0m__sub__\u001b[0m\u001b[0;34m(\u001b[0m\u001b[0mself\u001b[0m\u001b[0;34m,\u001b[0m \u001b[0mother\u001b[0m\u001b[0;34m)\u001b[0m\u001b[0;34m:\u001b[0m\u001b[0;34m\u001b[0m\u001b[0;34m\u001b[0m\u001b[0m\n\u001b[0;32m-> 1089\u001b[0;31m         \u001b[0;32mreturn\u001b[0m \u001b[0mself\u001b[0m\u001b[0;34m.\u001b[0m\u001b[0m_add_sub\u001b[0m\u001b[0;34m(\u001b[0m\u001b[0mother\u001b[0m\u001b[0;34m,\u001b[0m \u001b[0moperator\u001b[0m\u001b[0;34m.\u001b[0m\u001b[0msub\u001b[0m\u001b[0;34m)\u001b[0m\u001b[0;34m\u001b[0m\u001b[0;34m\u001b[0m\u001b[0m\n\u001b[0m\u001b[1;32m   1090\u001b[0m \u001b[0;34m\u001b[0m\u001b[0m\n\u001b[1;32m   1091\u001b[0m     \u001b[0;32mdef\u001b[0m \u001b[0m__rsub__\u001b[0m\u001b[0;34m(\u001b[0m\u001b[0mself\u001b[0m\u001b[0;34m,\u001b[0m \u001b[0mother\u001b[0m\u001b[0;34m)\u001b[0m\u001b[0;34m:\u001b[0m\u001b[0;34m\u001b[0m\u001b[0;34m\u001b[0m\u001b[0m\n",
      "\u001b[0;32m/home/linuxbrew/.linuxbrew/opt/python@3.9/lib/python3.9/site-packages/pint/quantity.py\u001b[0m in \u001b[0;36mwrapped\u001b[0;34m(self, *args, **kwargs)\u001b[0m\n\u001b[1;32m    113\u001b[0m         \u001b[0;32melif\u001b[0m \u001b[0misinstance\u001b[0m\u001b[0;34m(\u001b[0m\u001b[0mother\u001b[0m\u001b[0;34m,\u001b[0m \u001b[0mlist\u001b[0m\u001b[0;34m)\u001b[0m \u001b[0;32mand\u001b[0m \u001b[0mother\u001b[0m \u001b[0;32mand\u001b[0m \u001b[0misinstance\u001b[0m\u001b[0;34m(\u001b[0m\u001b[0mother\u001b[0m\u001b[0;34m[\u001b[0m\u001b[0;36m0\u001b[0m\u001b[0;34m]\u001b[0m\u001b[0;34m,\u001b[0m \u001b[0mtype\u001b[0m\u001b[0;34m(\u001b[0m\u001b[0mself\u001b[0m\u001b[0;34m)\u001b[0m\u001b[0;34m)\u001b[0m\u001b[0;34m:\u001b[0m\u001b[0;34m\u001b[0m\u001b[0;34m\u001b[0m\u001b[0m\n\u001b[1;32m    114\u001b[0m             \u001b[0;32mreturn\u001b[0m \u001b[0mNotImplemented\u001b[0m\u001b[0;34m\u001b[0m\u001b[0;34m\u001b[0m\u001b[0m\n\u001b[0;32m--> 115\u001b[0;31m         \u001b[0;32mreturn\u001b[0m \u001b[0mf\u001b[0m\u001b[0;34m(\u001b[0m\u001b[0mself\u001b[0m\u001b[0;34m,\u001b[0m \u001b[0;34m*\u001b[0m\u001b[0margs\u001b[0m\u001b[0;34m,\u001b[0m \u001b[0;34m**\u001b[0m\u001b[0mkwargs\u001b[0m\u001b[0;34m)\u001b[0m\u001b[0;34m\u001b[0m\u001b[0;34m\u001b[0m\u001b[0m\n\u001b[0m\u001b[1;32m    116\u001b[0m \u001b[0;34m\u001b[0m\u001b[0m\n\u001b[1;32m    117\u001b[0m     \u001b[0;32mreturn\u001b[0m \u001b[0mwrapped\u001b[0m\u001b[0;34m\u001b[0m\u001b[0;34m\u001b[0m\u001b[0m\n",
      "\u001b[0;32m/home/linuxbrew/.linuxbrew/opt/python@3.9/lib/python3.9/site-packages/pint/quantity.py\u001b[0m in \u001b[0;36m_add_sub\u001b[0;34m(self, other, op)\u001b[0m\n\u001b[1;32m    986\u001b[0m \u001b[0;34m\u001b[0m\u001b[0m\n\u001b[1;32m    987\u001b[0m         \u001b[0;32mif\u001b[0m \u001b[0;32mnot\u001b[0m \u001b[0mself\u001b[0m\u001b[0;34m.\u001b[0m\u001b[0mdimensionality\u001b[0m \u001b[0;34m==\u001b[0m \u001b[0mother\u001b[0m\u001b[0;34m.\u001b[0m\u001b[0mdimensionality\u001b[0m\u001b[0;34m:\u001b[0m\u001b[0;34m\u001b[0m\u001b[0;34m\u001b[0m\u001b[0m\n\u001b[0;32m--> 988\u001b[0;31m             raise DimensionalityError(\n\u001b[0m\u001b[1;32m    989\u001b[0m                 \u001b[0mself\u001b[0m\u001b[0;34m.\u001b[0m\u001b[0m_units\u001b[0m\u001b[0;34m,\u001b[0m \u001b[0mother\u001b[0m\u001b[0;34m.\u001b[0m\u001b[0m_units\u001b[0m\u001b[0;34m,\u001b[0m \u001b[0mself\u001b[0m\u001b[0;34m.\u001b[0m\u001b[0mdimensionality\u001b[0m\u001b[0;34m,\u001b[0m \u001b[0mother\u001b[0m\u001b[0;34m.\u001b[0m\u001b[0mdimensionality\u001b[0m\u001b[0;34m\u001b[0m\u001b[0;34m\u001b[0m\u001b[0m\n\u001b[1;32m    990\u001b[0m             )\n",
      "\u001b[0;31mDimensionalityError\u001b[0m: Cannot convert from 'second / henry' ([current] ** 2 * [time] ** 3 / [length] ** 2 / [mass]) to 'ampere * ohm / henry' ([current] / [time])"
     ]
    }
   ],
   "source": [
    "self.doublet(t) / self.L - \\\n",
    "                ((self.R_t(t)) / self.L * x_t[2] * ureg.ampere) - \\\n",
    "                (self.K * x_t[1] * ureg.mps) / (self.L * r_t)"
   ]
  },
  {
   "cell_type": "code",
   "execution_count": 282,
   "id": "86a9ed4e-603c-4705-af4c-62d87cfbcde7",
   "metadata": {},
   "outputs": [],
   "source": [
    "self.I_m = 700 * ureg.kg * ureg.meter **2"
   ]
  },
  {
   "cell_type": "code",
   "execution_count": 283,
   "id": "a0c56e76-0878-4b55-87c2-79e0716f4972",
   "metadata": {},
   "outputs": [
    {
     "data": {
      "text/html": [
       "0.05 meter"
      ],
      "text/latex": [
       "$0.05\\ \\mathrm{meter}$"
      ],
      "text/plain": [
       "0.05 <Unit('meter')>"
      ]
     },
     "execution_count": 283,
     "metadata": {},
     "output_type": "execute_result"
    }
   ],
   "source": [
    "self.delta_c"
   ]
  },
  {
   "cell_type": "code",
   "execution_count": null,
   "id": "54877e23-4c3f-4d94-8733-cb6f7bd55c6f",
   "metadata": {},
   "outputs": [],
   "source": []
  },
  {
   "cell_type": "code",
   "execution_count": 286,
   "id": "53c45b65-e3d4-4c67-a4b4-80a6bd21f2bf",
   "metadata": {},
   "outputs": [
    {
     "data": {
      "text/html": [
       "-589.7817999048333 kilogram meter standard_gravity"
      ],
      "text/latex": [
       "$-589.7817999048333\\ \\mathrm{kilogram} \\cdot \\mathrm{meter} \\cdot \\mathrm{standard\\_gravity}$"
      ],
      "text/plain": [
       "-589.7817999048333 <Unit('kilogram * meter * standard_gravity')>"
      ]
     },
     "execution_count": 286,
     "metadata": {},
     "output_type": "execute_result"
    }
   ],
   "source": [
    "(self.W * r_t - self.m * self.g * r_t + self.K * 1 * ureg.amp) + ((self.I_m * self.delta_c * (1 * ureg.mps)**2) / (2 * math.pi * r_t ** 3))"
   ]
  },
  {
   "cell_type": "code",
   "execution_count": 285,
   "id": "b171eda4-bf1d-40d9-b9c0-2965bc718b08",
   "metadata": {},
   "outputs": [
    {
     "data": {
      "text/plain": [
       "<UnitsContainer({'[length]': 2, '[mass]': 1, '[time]': -2})>"
      ]
     },
     "execution_count": 285,
     "metadata": {},
     "output_type": "execute_result"
    }
   ],
   "source": []
  },
  {
   "cell_type": "markdown",
   "id": "ec1c9bad-2e49-421e-a7bc-79cf358e5e82",
   "metadata": {},
   "source": [
    "## Problem 4"
   ]
  },
  {
   "cell_type": "markdown",
   "id": "9b510394-fcb7-46ff-8de7-a26f47b889f3",
   "metadata": {},
   "source": [
    "Simulate the linearized system with doublet commands on $dot{v}$, both up and down, for initial conditions close to the linearized states. Use input values which keep the elevator velocity reasonable"
   ]
  },
  {
   "cell_type": "code",
   "execution_count": null,
   "id": "36ab7d54-2c24-4fe4-8163-3c67a39a5b12",
   "metadata": {},
   "outputs": [],
   "source": []
  },
  {
   "cell_type": "markdown",
   "id": "a441ad64-c9f9-449f-8723-c5145415cc4f",
   "metadata": {},
   "source": [
    "## Problem 5"
   ]
  },
  {
   "cell_type": "markdown",
   "id": "91fc7aa6-11ad-4eb2-a40c-edf59faf5436",
   "metadata": {},
   "source": [
    "Write a few paragraphs summarizing the results of these simulations and any analysis. Make sure to compare the linear simulations to the nonlinear."
   ]
  },
  {
   "cell_type": "code",
   "execution_count": null,
   "id": "0f3ac352-7378-4a58-a3be-97651b43ed8b",
   "metadata": {},
   "outputs": [],
   "source": []
  }
 ],
 "metadata": {
  "kernelspec": {
   "display_name": "Python 3",
   "language": "python",
   "name": "python3"
  },
  "language_info": {
   "codemirror_mode": {
    "name": "ipython",
    "version": 3
   },
   "file_extension": ".py",
   "mimetype": "text/x-python",
   "name": "python",
   "nbconvert_exporter": "python",
   "pygments_lexer": "ipython3",
   "version": "3.9.5"
  }
 },
 "nbformat": 4,
 "nbformat_minor": 5
}
